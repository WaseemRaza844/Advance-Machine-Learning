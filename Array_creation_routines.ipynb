{
  "nbformat": 4,
  "nbformat_minor": 0,
  "metadata": {
    "kernelspec": {
      "display_name": "Python 2",
      "language": "python",
      "name": "python2"
    },
    "language_info": {
      "codemirror_mode": {
        "name": "ipython",
        "version": 2
      },
      "file_extension": ".py",
      "mimetype": "text/x-python",
      "name": "python",
      "nbconvert_exporter": "python",
      "pygments_lexer": "ipython2",
      "version": "2.7.10"
    },
    "colab": {
      "name": "Copy of Array_creation_routines.ipynb",
      "provenance": [],
      "toc_visible": true,
      "include_colab_link": true
    }
  },
  "cells": [
    {
      "cell_type": "markdown",
      "metadata": {
        "id": "view-in-github",
        "colab_type": "text"
      },
      "source": [
        "<a href=\"https://colab.research.google.com/github/WaseemRaza844/Advance-Machine-Learning/blob/master/Array_creation_routines.ipynb\" target=\"_parent\"><img src=\"https://colab.research.google.com/assets/colab-badge.svg\" alt=\"Open In Colab\"/></a>"
      ]
    },
    {
      "cell_type": "markdown",
      "metadata": {
        "id": "BtO494y4gFBS",
        "colab_type": "text"
      },
      "source": [
        "# Array creation routines"
      ]
    },
    {
      "cell_type": "markdown",
      "metadata": {
        "id": "VcXBXV-GgFBV",
        "colab_type": "text"
      },
      "source": [
        "## Ones and zeros"
      ]
    },
    {
      "cell_type": "code",
      "metadata": {
        "id": "6UCkmWqugFBW",
        "colab_type": "code",
        "colab": {}
      },
      "source": [
        "import numpy as np"
      ],
      "execution_count": 0,
      "outputs": []
    },
    {
      "cell_type": "markdown",
      "metadata": {
        "id": "l-aA_8oIgFBc",
        "colab_type": "text"
      },
      "source": [
        "Create a new array of 2*2 integers, without initializing entries."
      ]
    },
    {
      "cell_type": "code",
      "metadata": {
        "id": "Ajn-_kKSgFBd",
        "colab_type": "code",
        "outputId": "23bd9aaf-1bab-4e26-82a4-c2f464fda189",
        "colab": {}
      },
      "source": [
        ""
      ],
      "execution_count": 0,
      "outputs": [
        {
          "output_type": "execute_result",
          "data": {
            "text/plain": [
              "array([[0, 0],\n",
              "       [0, 0]])"
            ]
          },
          "metadata": {
            "tags": []
          },
          "execution_count": 27
        }
      ]
    },
    {
      "cell_type": "markdown",
      "metadata": {
        "id": "J2HE8s_igFBi",
        "colab_type": "text"
      },
      "source": [
        "Let X = np.array([1,2,3], [4,5,6], np.int32). \n",
        "Create a new array with the same shape and type as X."
      ]
    },
    {
      "cell_type": "code",
      "metadata": {
        "id": "g4zNsaETgFBk",
        "colab_type": "code",
        "outputId": "3211ae32-b71e-4710-c14c-e1d03c6e7582",
        "colab": {}
      },
      "source": [
        "X = np.array([[1,2,3], [4,5,6]], np.int32)\n"
      ],
      "execution_count": 0,
      "outputs": [
        {
          "output_type": "execute_result",
          "data": {
            "text/plain": [
              "array([[1, 2, 3],\n",
              "       [4, 5, 6]])"
            ]
          },
          "metadata": {
            "tags": []
          },
          "execution_count": 32
        }
      ]
    },
    {
      "cell_type": "markdown",
      "metadata": {
        "id": "wmVwM94egFBo",
        "colab_type": "text"
      },
      "source": [
        "Create a 3-D array with ones on the diagonal and zeros elsewhere."
      ]
    },
    {
      "cell_type": "code",
      "metadata": {
        "id": "Nbak175dgFBp",
        "colab_type": "code",
        "outputId": "62ff3a76-1791-4e57-81b3-d3192dc67a1c",
        "colab": {}
      },
      "source": [
        ""
      ],
      "execution_count": 0,
      "outputs": [
        {
          "output_type": "execute_result",
          "data": {
            "text/plain": [
              "array([[ 1.,  0.,  0.],\n",
              "       [ 0.,  1.,  0.],\n",
              "       [ 0.,  0.,  1.]])"
            ]
          },
          "metadata": {
            "tags": []
          },
          "execution_count": 33
        }
      ]
    },
    {
      "cell_type": "code",
      "metadata": {
        "id": "WRupH-XjgFBu",
        "colab_type": "code",
        "outputId": "fd09be95-2d8a-45ec-8a5c-64a8cce185c4",
        "colab": {}
      },
      "source": [
        ""
      ],
      "execution_count": 0,
      "outputs": [
        {
          "output_type": "execute_result",
          "data": {
            "text/plain": [
              "array([[ 1.,  0.,  0.],\n",
              "       [ 0.,  1.,  0.],\n",
              "       [ 0.,  0.,  1.]])"
            ]
          },
          "metadata": {
            "tags": []
          },
          "execution_count": 35
        }
      ]
    },
    {
      "cell_type": "markdown",
      "metadata": {
        "id": "WP8OzwGigFBy",
        "colab_type": "text"
      },
      "source": [
        "Create a new array of 3*2 float numbers, filled with ones."
      ]
    },
    {
      "cell_type": "code",
      "metadata": {
        "id": "k2gHVa67gFBz",
        "colab_type": "code",
        "outputId": "3bcf02d7-6ff1-42d3-9bbb-65d29df6fa14",
        "colab": {}
      },
      "source": [
        ""
      ],
      "execution_count": 0,
      "outputs": [
        {
          "output_type": "execute_result",
          "data": {
            "text/plain": [
              "array([[ 1.,  1.],\n",
              "       [ 1.,  1.],\n",
              "       [ 1.,  1.]])"
            ]
          },
          "metadata": {
            "tags": []
          },
          "execution_count": 36
        }
      ]
    },
    {
      "cell_type": "markdown",
      "metadata": {
        "id": "QgqYdOEOgFB2",
        "colab_type": "text"
      },
      "source": [
        "Let x = np.arange(4, dtype=np.int64). Create an array of ones with the same shape and type as X."
      ]
    },
    {
      "cell_type": "code",
      "metadata": {
        "id": "MTQguAQygFB4",
        "colab_type": "code",
        "outputId": "fc8bf4f3-3ac4-45a4-a7d0-f369939002de",
        "colab": {}
      },
      "source": [
        "x = np.arange(4, dtype=np.int64)\n"
      ],
      "execution_count": 0,
      "outputs": [
        {
          "output_type": "execute_result",
          "data": {
            "text/plain": [
              "array([1, 1, 1, 1], dtype=int64)"
            ]
          },
          "metadata": {
            "tags": []
          },
          "execution_count": 59
        }
      ]
    },
    {
      "cell_type": "markdown",
      "metadata": {
        "id": "foCtZIXGgFB8",
        "colab_type": "text"
      },
      "source": [
        "Create a new array of 3*2 float numbers, filled with zeros."
      ]
    },
    {
      "cell_type": "code",
      "metadata": {
        "id": "m8f5VQrNgFB-",
        "colab_type": "code",
        "outputId": "45a46190-f805-4ec7-cc69-2b6a8c686a11",
        "colab": {}
      },
      "source": [
        ""
      ],
      "execution_count": 0,
      "outputs": [
        {
          "output_type": "execute_result",
          "data": {
            "text/plain": [
              "array([[ 0.,  0.],\n",
              "       [ 0.,  0.],\n",
              "       [ 0.,  0.]])"
            ]
          },
          "metadata": {
            "tags": []
          },
          "execution_count": 45
        }
      ]
    },
    {
      "cell_type": "markdown",
      "metadata": {
        "id": "aGHfBupIgFCB",
        "colab_type": "text"
      },
      "source": [
        "Let x = np.arange(4, dtype=np.int64). Create an array of zeros with the same shape and type as X."
      ]
    },
    {
      "cell_type": "code",
      "metadata": {
        "id": "5fLl8koVgFCH",
        "colab_type": "code",
        "outputId": "a49fcdca-dade-4663-a57b-93af478c0c26",
        "colab": {}
      },
      "source": [
        "x = np.arange(4, dtype=np.int64)\n"
      ],
      "execution_count": 0,
      "outputs": [
        {
          "output_type": "execute_result",
          "data": {
            "text/plain": [
              "array([0, 0, 0, 0], dtype=int64)"
            ]
          },
          "metadata": {
            "tags": []
          },
          "execution_count": 58
        }
      ]
    },
    {
      "cell_type": "markdown",
      "metadata": {
        "id": "iuALLjpRgFCL",
        "colab_type": "text"
      },
      "source": [
        "Create a new array of 2*5 uints, filled with 6."
      ]
    },
    {
      "cell_type": "code",
      "metadata": {
        "id": "mcpeONdCgFCN",
        "colab_type": "code",
        "outputId": "7b7b9ac2-73a4-441f-abef-dc573b8b1de7",
        "colab": {}
      },
      "source": [
        ""
      ],
      "execution_count": 0,
      "outputs": [
        {
          "output_type": "execute_result",
          "data": {
            "text/plain": [
              "array([[6, 6, 6, 6, 6],\n",
              "       [6, 6, 6, 6, 6]], dtype=uint32)"
            ]
          },
          "metadata": {
            "tags": []
          },
          "execution_count": 49
        }
      ]
    },
    {
      "cell_type": "markdown",
      "metadata": {
        "id": "DQKr7f6DgFCQ",
        "colab_type": "text"
      },
      "source": [
        "Let x = np.arange(4, dtype=np.int64). Create an array of 6's with the same shape and type as X."
      ]
    },
    {
      "cell_type": "code",
      "metadata": {
        "id": "_2FDnLVvgFCR",
        "colab_type": "code",
        "outputId": "b397c1a4-cc49-44e3-aca1-0d4426266a5b",
        "colab": {}
      },
      "source": [
        "x = np.arange(4, dtype=np.int64)\n"
      ],
      "execution_count": 0,
      "outputs": [
        {
          "output_type": "execute_result",
          "data": {
            "text/plain": [
              "array([6, 6, 6, 6], dtype=int64)"
            ]
          },
          "metadata": {
            "tags": []
          },
          "execution_count": 79
        }
      ]
    },
    {
      "cell_type": "markdown",
      "metadata": {
        "id": "OsSj2fM-gFCV",
        "colab_type": "text"
      },
      "source": [
        "## From existing data"
      ]
    },
    {
      "cell_type": "markdown",
      "metadata": {
        "id": "Cd1SmEjKgFCX",
        "colab_type": "text"
      },
      "source": [
        "Create an array of [1, 2, 3]."
      ]
    },
    {
      "cell_type": "code",
      "metadata": {
        "id": "QlogJOVtgFCZ",
        "colab_type": "code",
        "outputId": "2c6ef24f-1dcc-4125-87ab-33e64505adb5",
        "colab": {}
      },
      "source": [
        ""
      ],
      "execution_count": 0,
      "outputs": [
        {
          "output_type": "execute_result",
          "data": {
            "text/plain": [
              "array([1, 2, 3])"
            ]
          },
          "metadata": {
            "tags": []
          },
          "execution_count": 53
        }
      ]
    },
    {
      "cell_type": "markdown",
      "metadata": {
        "id": "oCCVn6zjgFCe",
        "colab_type": "text"
      },
      "source": [
        "Let x = [1, 2]. Conver it into an array."
      ]
    },
    {
      "cell_type": "code",
      "metadata": {
        "id": "X6_WNEoQgFCf",
        "colab_type": "code",
        "outputId": "7172fb8e-5e46-4bc1-fe59-0de34a86a5b4",
        "colab": {}
      },
      "source": [
        "x = [1,2]\n"
      ],
      "execution_count": 0,
      "outputs": [
        {
          "output_type": "execute_result",
          "data": {
            "text/plain": [
              "array([1, 2])"
            ]
          },
          "metadata": {
            "tags": []
          },
          "execution_count": 60
        }
      ]
    },
    {
      "cell_type": "markdown",
      "metadata": {
        "id": "HNgVks1rgFCl",
        "colab_type": "text"
      },
      "source": [
        "Let X = np.array([[1, 2], [3, 4]]). Convert it into a matrix."
      ]
    },
    {
      "cell_type": "code",
      "metadata": {
        "id": "qdi8Pg-ZgFCm",
        "colab_type": "code",
        "outputId": "a678522a-d170-4c32-93ef-76c0de72e1c3",
        "colab": {}
      },
      "source": [
        "X = np.array([[1, 2], [3, 4]])\n"
      ],
      "execution_count": 0,
      "outputs": [
        {
          "output_type": "execute_result",
          "data": {
            "text/plain": [
              "matrix([[1, 2],\n",
              "        [3, 4]])"
            ]
          },
          "metadata": {
            "tags": []
          },
          "execution_count": 62
        }
      ]
    },
    {
      "cell_type": "markdown",
      "metadata": {
        "id": "180vMI_8gFCq",
        "colab_type": "text"
      },
      "source": [
        "Let x = [1, 2]. Conver it into an array of `float`."
      ]
    },
    {
      "cell_type": "code",
      "metadata": {
        "id": "_sYsfAB7gFCq",
        "colab_type": "code",
        "outputId": "62983f57-10d0-4109-822c-183594fb0c6e",
        "colab": {}
      },
      "source": [
        "x = [1, 2]\n"
      ],
      "execution_count": 0,
      "outputs": [
        {
          "output_type": "execute_result",
          "data": {
            "text/plain": [
              "array([ 1.,  2.])"
            ]
          },
          "metadata": {
            "tags": []
          },
          "execution_count": 63
        }
      ]
    },
    {
      "cell_type": "markdown",
      "metadata": {
        "id": "4FZF0nsLgFCv",
        "colab_type": "text"
      },
      "source": [
        "Let x = np.array([30]). Convert it into scalar of its single element, i.e. 30."
      ]
    },
    {
      "cell_type": "code",
      "metadata": {
        "id": "9oPFYOkrgFCv",
        "colab_type": "code",
        "outputId": "b494c0bc-72bd-49d2-9f30-d40691d03993",
        "colab": {}
      },
      "source": [
        "x = np.array([30])\n"
      ],
      "execution_count": 0,
      "outputs": [
        {
          "output_type": "execute_result",
          "data": {
            "text/plain": [
              "30"
            ]
          },
          "metadata": {
            "tags": []
          },
          "execution_count": 67
        }
      ]
    },
    {
      "cell_type": "markdown",
      "metadata": {
        "id": "YEnVR7PPgFCy",
        "colab_type": "text"
      },
      "source": [
        "Let x = np.array([1, 2, 3]). Create a array copy of x, which has a different id from x."
      ]
    },
    {
      "cell_type": "code",
      "metadata": {
        "id": "JyGB9n3LgFCz",
        "colab_type": "code",
        "outputId": "264fd220-41d8-4bc1-8581-c04f12bb9047",
        "colab": {}
      },
      "source": [
        "x = np.array([1, 2, 3])\n"
      ],
      "execution_count": 0,
      "outputs": [
        {
          "output_type": "stream",
          "text": [
            "70140352 [1 2 3]\n",
            "70140752 [1 2 3]\n"
          ],
          "name": "stdout"
        }
      ]
    },
    {
      "cell_type": "markdown",
      "metadata": {
        "id": "IdaJ7q1tgFC2",
        "colab_type": "text"
      },
      "source": [
        "## Numerical ranges"
      ]
    },
    {
      "cell_type": "markdown",
      "metadata": {
        "id": "XKaHf8PDgFC3",
        "colab_type": "text"
      },
      "source": [
        "Create an array of 2, 4, 6, 8, ..., 100."
      ]
    },
    {
      "cell_type": "code",
      "metadata": {
        "id": "uYG1oer-gFC4",
        "colab_type": "code",
        "outputId": "577da676-04ab-4aef-e15a-70e7a3eac8b3",
        "colab": {}
      },
      "source": [
        ""
      ],
      "execution_count": 0,
      "outputs": [
        {
          "output_type": "execute_result",
          "data": {
            "text/plain": [
              "array([  2,   4,   6,   8,  10,  12,  14,  16,  18,  20,  22,  24,  26,\n",
              "        28,  30,  32,  34,  36,  38,  40,  42,  44,  46,  48,  50,  52,\n",
              "        54,  56,  58,  60,  62,  64,  66,  68,  70,  72,  74,  76,  78,\n",
              "        80,  82,  84,  86,  88,  90,  92,  94,  96,  98, 100])"
            ]
          },
          "metadata": {
            "tags": []
          },
          "execution_count": 85
        }
      ]
    },
    {
      "cell_type": "markdown",
      "metadata": {
        "id": "q_7ELiVOgFC7",
        "colab_type": "text"
      },
      "source": [
        "Create a 1-D array of 50 evenly spaced elements between 3. and 10., inclusive."
      ]
    },
    {
      "cell_type": "code",
      "metadata": {
        "id": "mCp88-FigFC8",
        "colab_type": "code",
        "outputId": "29f5d3a2-3031-4a01-e609-0a483834569d",
        "colab": {}
      },
      "source": [
        ""
      ],
      "execution_count": 0,
      "outputs": [
        {
          "output_type": "execute_result",
          "data": {
            "text/plain": [
              "array([  3.        ,   3.14285714,   3.28571429,   3.42857143,\n",
              "         3.57142857,   3.71428571,   3.85714286,   4.        ,\n",
              "         4.14285714,   4.28571429,   4.42857143,   4.57142857,\n",
              "         4.71428571,   4.85714286,   5.        ,   5.14285714,\n",
              "         5.28571429,   5.42857143,   5.57142857,   5.71428571,\n",
              "         5.85714286,   6.        ,   6.14285714,   6.28571429,\n",
              "         6.42857143,   6.57142857,   6.71428571,   6.85714286,\n",
              "         7.        ,   7.14285714,   7.28571429,   7.42857143,\n",
              "         7.57142857,   7.71428571,   7.85714286,   8.        ,\n",
              "         8.14285714,   8.28571429,   8.42857143,   8.57142857,\n",
              "         8.71428571,   8.85714286,   9.        ,   9.14285714,\n",
              "         9.28571429,   9.42857143,   9.57142857,   9.71428571,\n",
              "         9.85714286,  10.        ])"
            ]
          },
          "metadata": {
            "tags": []
          },
          "execution_count": 86
        }
      ]
    },
    {
      "cell_type": "markdown",
      "metadata": {
        "id": "KNF6jsKSgFDA",
        "colab_type": "text"
      },
      "source": [
        "Create a 1-D array of 50 element spaced evenly on a log scale between 3. and 10., exclusive."
      ]
    },
    {
      "cell_type": "code",
      "metadata": {
        "id": "ZW0hlhVMgFDB",
        "colab_type": "code",
        "outputId": "ae7aec8e-a6c5-4d15-f3eb-6c49500ed524",
        "colab": {}
      },
      "source": [
        ""
      ],
      "execution_count": 0,
      "outputs": [
        {
          "output_type": "execute_result",
          "data": {
            "text/plain": [
              "array([  1.00000000e+03,   1.38038426e+03,   1.90546072e+03,\n",
              "         2.63026799e+03,   3.63078055e+03,   5.01187234e+03,\n",
              "         6.91830971e+03,   9.54992586e+03,   1.31825674e+04,\n",
              "         1.81970086e+04,   2.51188643e+04,   3.46736850e+04,\n",
              "         4.78630092e+04,   6.60693448e+04,   9.12010839e+04,\n",
              "         1.25892541e+05,   1.73780083e+05,   2.39883292e+05,\n",
              "         3.31131121e+05,   4.57088190e+05,   6.30957344e+05,\n",
              "         8.70963590e+05,   1.20226443e+06,   1.65958691e+06,\n",
              "         2.29086765e+06,   3.16227766e+06,   4.36515832e+06,\n",
              "         6.02559586e+06,   8.31763771e+06,   1.14815362e+07,\n",
              "         1.58489319e+07,   2.18776162e+07,   3.01995172e+07,\n",
              "         4.16869383e+07,   5.75439937e+07,   7.94328235e+07,\n",
              "         1.09647820e+08,   1.51356125e+08,   2.08929613e+08,\n",
              "         2.88403150e+08,   3.98107171e+08,   5.49540874e+08,\n",
              "         7.58577575e+08,   1.04712855e+09,   1.44543977e+09,\n",
              "         1.99526231e+09,   2.75422870e+09,   3.80189396e+09,\n",
              "         5.24807460e+09,   7.24435960e+09])"
            ]
          },
          "metadata": {
            "tags": []
          },
          "execution_count": 88
        }
      ]
    },
    {
      "cell_type": "markdown",
      "metadata": {
        "id": "48o39ImVgFDE",
        "colab_type": "text"
      },
      "source": [
        "## Building matrices"
      ]
    },
    {
      "cell_type": "markdown",
      "metadata": {
        "id": "DDwzbK2zgFDF",
        "colab_type": "text"
      },
      "source": [
        "Let X = np.array([[ 0,  1,  2,  3],\n",
        "                  [ 4,  5,  6,  7],\n",
        "                 [ 8,  9, 10, 11]]).\n",
        "                 Get the diagonal of X, that is, [0, 5, 10]."
      ]
    },
    {
      "cell_type": "code",
      "metadata": {
        "id": "fTinAHRDgFDG",
        "colab_type": "code",
        "outputId": "33840bcd-e33f-40cd-a353-6811b5c92f99",
        "colab": {}
      },
      "source": [
        "X = np.array([[ 0, 1, 2, 3], [ 4, 5, 6, 7], [ 8, 9, 10, 11]])\n"
      ],
      "execution_count": 0,
      "outputs": [
        {
          "output_type": "execute_result",
          "data": {
            "text/plain": [
              "array([ 0,  5, 10])"
            ]
          },
          "metadata": {
            "tags": []
          },
          "execution_count": 93
        }
      ]
    },
    {
      "cell_type": "markdown",
      "metadata": {
        "id": "fQfGbhuzgFDJ",
        "colab_type": "text"
      },
      "source": [
        "Create a 2-D array whose diagonal equals [1, 2, 3, 4] and 0's elsewhere."
      ]
    },
    {
      "cell_type": "code",
      "metadata": {
        "id": "XTVRr0xdgFDK",
        "colab_type": "code",
        "outputId": "f5bf6b95-a13a-48b2-8c6e-8afc303b86c8",
        "colab": {}
      },
      "source": [
        ""
      ],
      "execution_count": 0,
      "outputs": [
        {
          "output_type": "execute_result",
          "data": {
            "text/plain": [
              "array([[1, 0, 0, 0],\n",
              "       [0, 2, 0, 0],\n",
              "       [0, 0, 3, 0],\n",
              "       [0, 0, 0, 4]])"
            ]
          },
          "metadata": {
            "tags": []
          },
          "execution_count": 95
        }
      ]
    },
    {
      "cell_type": "markdown",
      "metadata": {
        "id": "AWwTrkBMgFDQ",
        "colab_type": "text"
      },
      "source": [
        "Create an array which looks like below.\n",
        "array([[ 0.,  0.,  0.,  0.,  0.],\n",
        "       [ 1.,  0.,  0.,  0.,  0.],\n",
        "       [ 1.,  1.,  0.,  0.,  0.]])"
      ]
    },
    {
      "cell_type": "code",
      "metadata": {
        "id": "p38neo-ngFDR",
        "colab_type": "code",
        "outputId": "10aa63d1-ab13-4c3a-e4e1-a4bc44599015",
        "colab": {}
      },
      "source": [
        ""
      ],
      "execution_count": 0,
      "outputs": [
        {
          "output_type": "execute_result",
          "data": {
            "text/plain": [
              "array([[ 0.,  0.,  0.,  0.,  0.],\n",
              "       [ 1.,  0.,  0.,  0.,  0.],\n",
              "       [ 1.,  1.,  0.,  0.,  0.]])"
            ]
          },
          "metadata": {
            "tags": []
          },
          "execution_count": 97
        }
      ]
    },
    {
      "cell_type": "markdown",
      "metadata": {
        "id": "BvIRyvqSgFDU",
        "colab_type": "text"
      },
      "source": [
        "Create an array which looks like below. array([[ 0., 0., 0., 0., 0.], [ 1., 0., 0., 0., 0.], [ 1., 1., 0., 0., 0.]])\n",
        "array([[ 0,  0,  0],\n",
        "       [ 4,  0,  0],\n",
        "       [ 7,  8,  0],\n",
        "       [10, 11, 12]])"
      ]
    },
    {
      "cell_type": "code",
      "metadata": {
        "id": "2DlSRgelgFDV",
        "colab_type": "code",
        "outputId": "31121f16-3e98-4c04-84a7-a36db7d6051d",
        "colab": {}
      },
      "source": [
        ""
      ],
      "execution_count": 0,
      "outputs": [
        {
          "output_type": "execute_result",
          "data": {
            "text/plain": [
              "array([[ 0,  0,  0],\n",
              "       [ 4,  0,  0],\n",
              "       [ 7,  8,  0],\n",
              "       [10, 11, 12]])"
            ]
          },
          "metadata": {
            "tags": []
          },
          "execution_count": 101
        }
      ]
    },
    {
      "cell_type": "markdown",
      "metadata": {
        "id": "lZhJlelFgFDZ",
        "colab_type": "text"
      },
      "source": [
        "Create an array which looks like below. array([[ 1,  2,  3],\n",
        "       [ 4,  5,  6],\n",
        "       [ 0,  8,  9],\n",
        "       [ 0,  0, 12]])"
      ]
    },
    {
      "cell_type": "code",
      "metadata": {
        "id": "EtMdEi1ggFDa",
        "colab_type": "code",
        "outputId": "87a82271-5141-4cb3-ae23-3ffd0381e7fd",
        "colab": {}
      },
      "source": [
        ""
      ],
      "execution_count": 0,
      "outputs": [
        {
          "output_type": "execute_result",
          "data": {
            "text/plain": [
              "array([[ 1,  2,  3],\n",
              "       [ 4,  5,  6],\n",
              "       [ 0,  8,  9],\n",
              "       [ 0,  0, 12]])"
            ]
          },
          "metadata": {
            "tags": []
          },
          "execution_count": 102
        }
      ]
    }
  ]
}