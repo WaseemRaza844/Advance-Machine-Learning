{
  "nbformat": 4,
  "nbformat_minor": 0,
  "metadata": {
    "kernelspec": {
      "display_name": "Python 2",
      "language": "python",
      "name": "python2"
    },
    "language_info": {
      "codemirror_mode": {
        "name": "ipython",
        "version": 2
      },
      "file_extension": ".py",
      "mimetype": "text/x-python",
      "name": "python",
      "nbconvert_exporter": "python",
      "pygments_lexer": "ipython2",
      "version": "2.7.10"
    },
    "colab": {
      "name": "Copy of Array_manipulation_routines.ipynb",
      "provenance": [],
      "toc_visible": true,
      "include_colab_link": true
    }
  },
  "cells": [
    {
      "cell_type": "markdown",
      "metadata": {
        "id": "view-in-github",
        "colab_type": "text"
      },
      "source": [
        "<a href=\"https://colab.research.google.com/github/WaseemRaza844/Advance-Machine-Learning/blob/master/Copy_of_Array_manipulation_routines.ipynb\" target=\"_parent\"><img src=\"https://colab.research.google.com/assets/colab-badge.svg\" alt=\"Open In Colab\"/></a>"
      ]
    },
    {
      "cell_type": "markdown",
      "metadata": {
        "id": "TGVI6rNXcr2b",
        "colab_type": "text"
      },
      "source": [
        "# Array manipulation routines"
      ]
    },
    {
      "cell_type": "code",
      "metadata": {
        "id": "8-gtPFvMcr2h",
        "colab_type": "code",
        "colab": {}
      },
      "source": [
        "import numpy as np"
      ],
      "execution_count": 0,
      "outputs": []
    },
    {
      "cell_type": "code",
      "metadata": {
        "id": "pyObIAuGcr2p",
        "colab_type": "code",
        "outputId": "df54bf58-7ff2-4c41-c7c4-1233d5946ec3",
        "colab": {
          "base_uri": "https://localhost:8080/",
          "height": 34
        }
      },
      "source": [
        "np.__version__"
      ],
      "execution_count": 0,
      "outputs": [
        {
          "output_type": "execute_result",
          "data": {
            "text/plain": [
              "'1.16.4'"
            ]
          },
          "metadata": {
            "tags": []
          },
          "execution_count": 2
        }
      ]
    },
    {
      "cell_type": "markdown",
      "metadata": {
        "collapsed": true,
        "id": "pvAc6pDYcr2y",
        "colab_type": "text"
      },
      "source": [
        "Q1. Let x be a ndarray [10, 10, 3] with all elements set to zero. Reshape x so that the size of the second dimension equals 150."
      ]
    },
    {
      "cell_type": "code",
      "metadata": {
        "id": "v5YqZwYYcr20",
        "colab_type": "code",
        "outputId": "ed9d23df-1e01-457d-eff0-a53075ed26d8",
        "colab": {
          "base_uri": "https://localhost:8080/",
          "height": 252
        }
      },
      "source": [
        "x=np.zeros((10,10,3)).reshape((2,150))\n",
        "print(x)"
      ],
      "execution_count": 0,
      "outputs": [
        {
          "output_type": "stream",
          "text": [
            "[[0. 0. 0. 0. 0. 0. 0. 0. 0. 0. 0. 0. 0. 0. 0. 0. 0. 0. 0. 0. 0. 0. 0. 0.\n",
            "  0. 0. 0. 0. 0. 0. 0. 0. 0. 0. 0. 0. 0. 0. 0. 0. 0. 0. 0. 0. 0. 0. 0. 0.\n",
            "  0. 0. 0. 0. 0. 0. 0. 0. 0. 0. 0. 0. 0. 0. 0. 0. 0. 0. 0. 0. 0. 0. 0. 0.\n",
            "  0. 0. 0. 0. 0. 0. 0. 0. 0. 0. 0. 0. 0. 0. 0. 0. 0. 0. 0. 0. 0. 0. 0. 0.\n",
            "  0. 0. 0. 0. 0. 0. 0. 0. 0. 0. 0. 0. 0. 0. 0. 0. 0. 0. 0. 0. 0. 0. 0. 0.\n",
            "  0. 0. 0. 0. 0. 0. 0. 0. 0. 0. 0. 0. 0. 0. 0. 0. 0. 0. 0. 0. 0. 0. 0. 0.\n",
            "  0. 0. 0. 0. 0. 0.]\n",
            " [0. 0. 0. 0. 0. 0. 0. 0. 0. 0. 0. 0. 0. 0. 0. 0. 0. 0. 0. 0. 0. 0. 0. 0.\n",
            "  0. 0. 0. 0. 0. 0. 0. 0. 0. 0. 0. 0. 0. 0. 0. 0. 0. 0. 0. 0. 0. 0. 0. 0.\n",
            "  0. 0. 0. 0. 0. 0. 0. 0. 0. 0. 0. 0. 0. 0. 0. 0. 0. 0. 0. 0. 0. 0. 0. 0.\n",
            "  0. 0. 0. 0. 0. 0. 0. 0. 0. 0. 0. 0. 0. 0. 0. 0. 0. 0. 0. 0. 0. 0. 0. 0.\n",
            "  0. 0. 0. 0. 0. 0. 0. 0. 0. 0. 0. 0. 0. 0. 0. 0. 0. 0. 0. 0. 0. 0. 0. 0.\n",
            "  0. 0. 0. 0. 0. 0. 0. 0. 0. 0. 0. 0. 0. 0. 0. 0. 0. 0. 0. 0. 0. 0. 0. 0.\n",
            "  0. 0. 0. 0. 0. 0.]]\n"
          ],
          "name": "stdout"
        }
      ]
    },
    {
      "cell_type": "markdown",
      "metadata": {
        "id": "rr-a-m5Jcr24",
        "colab_type": "text"
      },
      "source": [
        "Q2. Let x be array [[1, 2, 3], [4, 5, 6]]. Convert it to [1 4 2 5 3 6]."
      ]
    },
    {
      "cell_type": "code",
      "metadata": {
        "id": "86f6VeDVcr27",
        "colab_type": "code",
        "outputId": "84430cdf-282e-4187-c79a-5501ef1116e0",
        "colab": {
          "base_uri": "https://localhost:8080/",
          "height": 67
        }
      },
      "source": [
        "x = np.arange(1,7).reshape(2,3)\n",
        "print(x)\n",
        "y = x.reshape(1,6)\n",
        "print(y)"
      ],
      "execution_count": 0,
      "outputs": [
        {
          "output_type": "stream",
          "text": [
            "[[1 2 3]\n",
            " [4 5 6]]\n",
            "[[1 2 3 4 5 6]]\n"
          ],
          "name": "stdout"
        }
      ]
    },
    {
      "cell_type": "markdown",
      "metadata": {
        "id": "NNSgaCEycr2_",
        "colab_type": "text"
      },
      "source": [
        "Q3. Let x be array [[1, 2, 3], [4, 5, 6]]. Get the 5th element."
      ]
    },
    {
      "cell_type": "code",
      "metadata": {
        "id": "4EV1-Sz_cr3A",
        "colab_type": "code",
        "outputId": "e18d5913-61fe-4968-d59b-a6a42384dd16",
        "colab": {
          "base_uri": "https://localhost:8080/",
          "height": 50
        }
      },
      "source": [
        "x = np.arange(1,7).reshape(2,3).reshape(1,6)\n",
        "print(x)\n",
        "x[0,4]"
      ],
      "execution_count": 0,
      "outputs": [
        {
          "output_type": "stream",
          "text": [
            "[[1 2 3 4 5 6]]\n"
          ],
          "name": "stdout"
        },
        {
          "output_type": "execute_result",
          "data": {
            "text/plain": [
              "5"
            ]
          },
          "metadata": {
            "tags": []
          },
          "execution_count": 18
        }
      ]
    },
    {
      "cell_type": "markdown",
      "metadata": {
        "id": "JfFjJhYwcr3F",
        "colab_type": "text"
      },
      "source": [
        "Q4. Let x be an arbitrary 3-D array of shape (3, 4, 5). Permute the dimensions of x such that the new shape will be (4,3,5).\n"
      ]
    },
    {
      "cell_type": "code",
      "metadata": {
        "id": "VU-EApHicr3I",
        "colab_type": "code",
        "outputId": "8ef8a504-0cee-4e76-cc81-f0c9e008b16d",
        "colab": {}
      },
      "source": [
        ""
      ],
      "execution_count": 0,
      "outputs": [
        {
          "output_type": "stream",
          "text": [
            "(4L, 3L, 5L)\n"
          ],
          "name": "stdout"
        }
      ]
    },
    {
      "cell_type": "markdown",
      "metadata": {
        "id": "nYgwOaFrcr3N",
        "colab_type": "text"
      },
      "source": [
        "Q5. Let x be an arbitrary 2-D array of shape (3, 4). Permute the dimensions of x such that the new shape will be (4,3)."
      ]
    },
    {
      "cell_type": "code",
      "metadata": {
        "id": "UBRpXYbmcr3P",
        "colab_type": "code",
        "outputId": "0b04b89d-2d8d-478f-89ff-c883159ddd4e",
        "colab": {}
      },
      "source": [
        ""
      ],
      "execution_count": 0,
      "outputs": [
        {
          "output_type": "stream",
          "text": [
            "(4L, 3L)\n"
          ],
          "name": "stdout"
        }
      ]
    },
    {
      "cell_type": "markdown",
      "metadata": {
        "id": "ZM7poS0xcr3T",
        "colab_type": "text"
      },
      "source": [
        "Q5. Let x be an arbitrary 2-D array of shape (3, 4). Insert a nex axis such that the new shape will be (3, 1, 4)."
      ]
    },
    {
      "cell_type": "code",
      "metadata": {
        "id": "-f6rEuDYcr3W",
        "colab_type": "code",
        "outputId": "2039bec5-689f-43cb-cd59-ee321a4cbaeb",
        "colab": {}
      },
      "source": [
        ""
      ],
      "execution_count": 0,
      "outputs": [
        {
          "output_type": "stream",
          "text": [
            "(3L, 1L, 4L)\n"
          ],
          "name": "stdout"
        }
      ]
    },
    {
      "cell_type": "markdown",
      "metadata": {
        "id": "Yc3dksascr3d",
        "colab_type": "text"
      },
      "source": [
        "Q6. Let x be an arbitrary 3-D array of shape (3, 4, 1). Remove a single-dimensional entries such that the new shape will be (3, 4)."
      ]
    },
    {
      "cell_type": "code",
      "metadata": {
        "id": "1a5vrD0Kcr3f",
        "colab_type": "code",
        "outputId": "b69f7189-effb-49c3-8276-1428bedc37b6",
        "colab": {}
      },
      "source": [
        ""
      ],
      "execution_count": 0,
      "outputs": [
        {
          "output_type": "stream",
          "text": [
            "(3L, 4L)\n"
          ],
          "name": "stdout"
        }
      ]
    },
    {
      "cell_type": "markdown",
      "metadata": {
        "id": "xYQOXXc4cr3j",
        "colab_type": "text"
      },
      "source": [
        "Q7. Lex x be an array <br/>\n",
        "[[ 1 2 3]<br/>\n",
        "[ 4 5 6].<br/><br/>\n",
        "and y be an array <br/>\n",
        "[[ 7 8 9]<br/>\n",
        "[10 11 12]].<br/>\n",
        "Concatenate x and y so that a new array looks like <br/>[[1, 2, 3, 7, 8, 9], <br/>[4, 5, 6, 10, 11, 12]].\n"
      ]
    },
    {
      "cell_type": "code",
      "metadata": {
        "id": "8us7KMiMcr3m",
        "colab_type": "code",
        "outputId": "55ad83bd-0245-4868-e886-e001e628e519",
        "colab": {
          "base_uri": "https://localhost:8080/",
          "height": 118
        }
      },
      "source": [
        "x=np.arange(1,7).reshape(2,3)\n",
        "print(x)\n",
        "y=np.arange(7,13).reshape(2,3)\n",
        "print(y)\n",
        "z=np.concatenate((x,y), axis=1)\n",
        "print(z)"
      ],
      "execution_count": 0,
      "outputs": [
        {
          "output_type": "stream",
          "text": [
            "[[1 2 3]\n",
            " [4 5 6]]\n",
            "[[ 7  8  9]\n",
            " [10 11 12]]\n",
            "[[ 1  2  3  7  8  9]\n",
            " [ 4  5  6 10 11 12]]\n"
          ],
          "name": "stdout"
        }
      ]
    },
    {
      "cell_type": "markdown",
      "metadata": {
        "id": "aI57Sckbcr3p",
        "colab_type": "text"
      },
      "source": [
        ",Q8. Lex x be an array <br/>\n",
        "[[ 1 2 3]<br/>\n",
        "[ 4 5 6].<br/><br/>\n",
        "and y be an array <br/>\n",
        "[[ 7 8 9]<br/>\n",
        "[10 11 12]].<br/>\n",
        "Concatenate x and y so that a new array looks like <br/>[[ 1  2  3]<br/>\n",
        " [ 4  5  6]<br/>\n",
        " [ 7  8  9]<br/>\n",
        " [10 11 12]]\n"
      ]
    },
    {
      "cell_type": "code",
      "metadata": {
        "id": "XgF3YI50cr3q",
        "colab_type": "code",
        "outputId": "1b38aad8-9091-4802-bca3-585dc38d19e2",
        "colab": {
          "base_uri": "https://localhost:8080/",
          "height": 151
        }
      },
      "source": [
        "x=np.arange(1,7).reshape(2,3)\n",
        "print(x)\n",
        "y=np.arange(7,13).reshape(2,3)\n",
        "print(y)\n",
        "z=np.concatenate((x,y), axis=0)\n",
        "print(z)"
      ],
      "execution_count": 0,
      "outputs": [
        {
          "output_type": "stream",
          "text": [
            "[[1 2 3]\n",
            " [4 5 6]]\n",
            "[[ 7  8  9]\n",
            " [10 11 12]]\n",
            "[[ 1  2  3]\n",
            " [ 4  5  6]\n",
            " [ 7  8  9]\n",
            " [10 11 12]]\n"
          ],
          "name": "stdout"
        }
      ]
    },
    {
      "cell_type": "markdown",
      "metadata": {
        "id": "jQRD24lLcr3u",
        "colab_type": "text"
      },
      "source": [
        "Q8. Let x be an array [1 2 3] and y be [4 5 6]. Convert it to [[1, 4], [2, 5], [3, 6]]."
      ]
    },
    {
      "cell_type": "code",
      "metadata": {
        "id": "H9dirxeicr3v",
        "colab_type": "code",
        "outputId": "985f21d7-0065-4b45-fd58-c4b00c710204",
        "colab": {
          "base_uri": "https://localhost:8080/",
          "height": 101
        }
      },
      "source": [
        "x=np.arange(1,4).reshape(1,3)\n",
        "print(x)\n",
        "y=np.arange(4,7).reshape(1,3)\n",
        "print(y)\n",
        "z=np.concatenate((x.T,y.T), axis=1)\n",
        "print(z)"
      ],
      "execution_count": 0,
      "outputs": [
        {
          "output_type": "stream",
          "text": [
            "[[1 2 3]]\n",
            "[[4 5 6]]\n",
            "[[1 4]\n",
            " [2 5]\n",
            " [3 6]]\n"
          ],
          "name": "stdout"
        }
      ]
    },
    {
      "cell_type": "markdown",
      "metadata": {
        "id": "49rn0cNocr33",
        "colab_type": "text"
      },
      "source": [
        "Q9. Let x be an array [[1],[2],[3]] and y be [[4], [5], [6]]. Convert x to [[[1, 4]], [[2, 5]], [[3, 6]]]."
      ]
    },
    {
      "cell_type": "code",
      "metadata": {
        "id": "8a5V4-SGcr35",
        "colab_type": "code",
        "outputId": "dd5e1097-5c3b-434e-d9d6-c1e04b5a4ad1",
        "colab": {
          "base_uri": "https://localhost:8080/",
          "height": 168
        }
      },
      "source": [
        "x=np.arange(1,4).reshape(3,1)\n",
        "print(x)\n",
        "y=np.arange(4,7).reshape(3,1)\n",
        "print(y)\n",
        "z=np.concatenate((x,y), axis=1)\n",
        "print(z)"
      ],
      "execution_count": 0,
      "outputs": [
        {
          "output_type": "stream",
          "text": [
            "[[1]\n",
            " [2]\n",
            " [3]]\n",
            "[[4]\n",
            " [5]\n",
            " [6]]\n",
            "[[1 4]\n",
            " [2 5]\n",
            " [3 6]]\n"
          ],
          "name": "stdout"
        }
      ]
    },
    {
      "cell_type": "markdown",
      "metadata": {
        "id": "VsYkQP1dcr3-",
        "colab_type": "text"
      },
      "source": [
        "Q10. Let x be an array [1, 2, 3, ..., 9]. Split x into 3 arrays, each of which has 4, 2, and 3 elements in the original order."
      ]
    },
    {
      "cell_type": "code",
      "metadata": {
        "id": "4uaEQiuMcr4A",
        "colab_type": "code",
        "outputId": "8c96a59f-adc6-4782-c8b6-75453aad7428",
        "colab": {
          "base_uri": "https://localhost:8080/",
          "height": 34
        }
      },
      "source": [
        "x=np.arange(1,10)\n",
        "np.split(x,[4,6])"
      ],
      "execution_count": 0,
      "outputs": [
        {
          "output_type": "execute_result",
          "data": {
            "text/plain": [
              "[array([1, 2, 3, 4]), array([5, 6]), array([7, 8, 9])]"
            ]
          },
          "metadata": {
            "tags": []
          },
          "execution_count": 36
        }
      ]
    },
    {
      "cell_type": "markdown",
      "metadata": {
        "id": "MNH64y6-cr4E",
        "colab_type": "text"
      },
      "source": [
        "Q11. Let x be an array<br/>\n",
        "[[[  0.,   1.,   2.,   3.],<br/>\n",
        "  [  4.,   5.,   6.,   7.]],<br/>\n",
        " \n",
        " [[  8.,   9.,  10.,  11.],<br/>\n",
        "  [ 12.,  13.,  14.,  15.]]].<br/>\n",
        "Split it into two such that the first array looks like<br/>\n",
        "[[[  0.,   1.,   2.],<br/>\n",
        "  [  4.,   5.,   6.]],<br/>\n",
        " \n",
        " [[  8.,   9.,  10.],<br/>\n",
        "  [ 12.,  13.,  14.]]].<br/>\n",
        "  \n",
        "and the second one look like:<br/>\n",
        "  \n",
        "[[[  3.],<br/>\n",
        "  [  7.]],<br/>\n",
        " \n",
        " [[  11.],<br/>\n",
        "  [ 15.]]].<br/>  "
      ]
    },
    {
      "cell_type": "code",
      "metadata": {
        "id": "zievT5Yecr4F",
        "colab_type": "code",
        "outputId": "9f79eb02-6d4b-4954-fdb7-820f8c374dbf",
        "colab": {
          "base_uri": "https://localhost:8080/",
          "height": 134
        }
      },
      "source": [
        "x=np.array([[[0,1,2,3],[4,5,6,7]],[[8,9,10,11],[12,13,14,15]]],dtype=float)\n",
        "print(x)\n",
        "x.shape\n",
        "x[:,:,3]\n"
      ],
      "execution_count": 0,
      "outputs": [
        {
          "output_type": "stream",
          "text": [
            "[[[ 0.  1.  2.  3.]\n",
            "  [ 4.  5.  6.  7.]]\n",
            "\n",
            " [[ 8.  9. 10. 11.]\n",
            "  [12. 13. 14. 15.]]]\n"
          ],
          "name": "stdout"
        },
        {
          "output_type": "execute_result",
          "data": {
            "text/plain": [
              "array([[ 3.,  7.],\n",
              "       [11., 15.]])"
            ]
          },
          "metadata": {
            "tags": []
          },
          "execution_count": 55
        }
      ]
    },
    {
      "cell_type": "markdown",
      "metadata": {
        "id": "YxSlNr1scr4I",
        "colab_type": "text"
      },
      "source": [
        "Q12. Let x be an array <br />\n",
        "[[  0.,   1.,   2.,   3.],<br>\n",
        " [  4.,   5.,   6.,   7.],<br>\n",
        " [  8.,   9.,  10.,  11.],<br>\n",
        " [ 12.,  13.,  14.,  15.]].<br>\n",
        "Split it into two arrays along the second axis."
      ]
    },
    {
      "cell_type": "code",
      "metadata": {
        "id": "U3WamcKBcr4K",
        "colab_type": "code",
        "outputId": "8fc5dbdc-9238-4b7f-f367-213c50d297ad",
        "colab": {
          "base_uri": "https://localhost:8080/",
          "height": 202
        }
      },
      "source": [
        "x=np.arange(16.0).reshape(4,4)\n",
        "print(x)\n",
        "y=np.hsplit(x,2)\n",
        "print(y)"
      ],
      "execution_count": 0,
      "outputs": [
        {
          "output_type": "stream",
          "text": [
            "[[ 0.  1.  2.  3.]\n",
            " [ 4.  5.  6.  7.]\n",
            " [ 8.  9. 10. 11.]\n",
            " [12. 13. 14. 15.]]\n",
            "[array([[ 0.,  1.],\n",
            "       [ 4.,  5.],\n",
            "       [ 8.,  9.],\n",
            "       [12., 13.]]), array([[ 2.,  3.],\n",
            "       [ 6.,  7.],\n",
            "       [10., 11.],\n",
            "       [14., 15.]])]\n"
          ],
          "name": "stdout"
        }
      ]
    },
    {
      "cell_type": "markdown",
      "metadata": {
        "id": "GmgDE0k4cr4P",
        "colab_type": "text"
      },
      "source": [
        "Q13. Let x be an array <br />\n",
        "[[  0.,   1.,   2.,   3.],<br>\n",
        " [  4.,   5.,   6.,   7.],<br>\n",
        " [  8.,   9.,  10.,  11.],<br>\n",
        " [ 12.,  13.,  14.,  15.]].<br>\n",
        "Split it into two arrays along the first axis."
      ]
    },
    {
      "cell_type": "code",
      "metadata": {
        "id": "foro-Xyvcr4S",
        "colab_type": "code",
        "outputId": "00e19ed5-5b64-4e74-dba9-f5f8141a3afb",
        "colab": {
          "base_uri": "https://localhost:8080/",
          "height": 134
        }
      },
      "source": [
        "x=np.arange(16.0).reshape(4,4)\n",
        "print(x)\n",
        "y=np.split(x,2)\n",
        "print(y)"
      ],
      "execution_count": 0,
      "outputs": [
        {
          "output_type": "stream",
          "text": [
            "[[ 0.  1.  2.  3.]\n",
            " [ 4.  5.  6.  7.]\n",
            " [ 8.  9. 10. 11.]\n",
            " [12. 13. 14. 15.]]\n",
            "[array([[0., 1., 2., 3.],\n",
            "       [4., 5., 6., 7.]]), array([[ 8.,  9., 10., 11.],\n",
            "       [12., 13., 14., 15.]])]\n"
          ],
          "name": "stdout"
        }
      ]
    },
    {
      "cell_type": "markdown",
      "metadata": {
        "id": "zoB7-ABwcr4W",
        "colab_type": "text"
      },
      "source": [
        "Q14. Let x be an array [0, 1, 2]. Convert it to <br/>\n",
        "[[0, 1, 2, 0, 1, 2],<br/>\n",
        " [0, 1, 2, 0, 1, 2]]."
      ]
    },
    {
      "cell_type": "code",
      "metadata": {
        "id": "eAkDgAu8cr4X",
        "colab_type": "code",
        "outputId": "c8ec6b9c-510c-4254-c088-a0c2aff049e2",
        "colab": {
          "base_uri": "https://localhost:8080/",
          "height": 67
        }
      },
      "source": [
        "x=np.array([0,1,2])\n",
        "print(x)\n",
        "y=np.tile(x,(2,2))\n",
        "print(y)"
      ],
      "execution_count": 0,
      "outputs": [
        {
          "output_type": "stream",
          "text": [
            "[0 1 2]\n",
            "[[0 1 2 0 1 2]\n",
            " [0 1 2 0 1 2]]\n"
          ],
          "name": "stdout"
        }
      ]
    },
    {
      "cell_type": "markdown",
      "metadata": {
        "id": "xozCXTszcr4f",
        "colab_type": "text"
      },
      "source": [
        "Q15. Let x be an array [0, 1, 2]. Convert it to <br/>\n",
        "[0, 0, 1, 1, 2, 2]."
      ]
    },
    {
      "cell_type": "code",
      "metadata": {
        "id": "F1K8WBb1cr4g",
        "colab_type": "code",
        "outputId": "d89555b1-2e51-4023-8082-91d6aea1640e",
        "colab": {
          "base_uri": "https://localhost:8080/",
          "height": 34
        }
      },
      "source": [
        "x=np.array([0,1,2])\n",
        "np.repeat(x,2)"
      ],
      "execution_count": 0,
      "outputs": [
        {
          "output_type": "execute_result",
          "data": {
            "text/plain": [
              "array([0, 0, 1, 1, 2, 2])"
            ]
          },
          "metadata": {
            "tags": []
          },
          "execution_count": 66
        }
      ]
    },
    {
      "cell_type": "markdown",
      "metadata": {
        "id": "kRJdZGSTcr4j",
        "colab_type": "text"
      },
      "source": [
        "Q16. Let x be an array [0, 0, 0, 1, 2, 3, 0, 2, 1, 0].<br/>\n",
        "remove the leading the trailing zeros."
      ]
    },
    {
      "cell_type": "code",
      "metadata": {
        "id": "kzIlO9oIcr4k",
        "colab_type": "code",
        "outputId": "6103fc3f-d6cc-4b18-f592-8459da077743",
        "colab": {
          "base_uri": "https://localhost:8080/",
          "height": 34
        }
      },
      "source": [
        "x=np.array((0, 0, 0, 1, 2, 3, 0, 2, 1, 0))\n",
        "np.trim_zeros(x)"
      ],
      "execution_count": 0,
      "outputs": [
        {
          "output_type": "execute_result",
          "data": {
            "text/plain": [
              "array([1, 2, 3, 0, 2, 1])"
            ]
          },
          "metadata": {
            "tags": []
          },
          "execution_count": 68
        }
      ]
    },
    {
      "cell_type": "markdown",
      "metadata": {
        "id": "pFQ42CT2cr4o",
        "colab_type": "text"
      },
      "source": [
        "Q17. Let x be an array [2, 2, 1, 5, 4, 5, 1, 2, 3]. Get two arrays of unique elements and their counts.\n"
      ]
    },
    {
      "cell_type": "code",
      "metadata": {
        "id": "6uTzeA1Mcr4r",
        "colab_type": "code",
        "outputId": "1bc5aa90-a707-4c93-97bb-ffd26e368d6e",
        "colab": {
          "base_uri": "https://localhost:8080/",
          "height": 50
        }
      },
      "source": [
        "x=np.array([2, 2, 1, 5, 4, 5, 1, 2, 3])\n",
        "u, c = np.unique(x, return_counts=True)\n",
        "print(u)\n",
        "print(c)"
      ],
      "execution_count": 0,
      "outputs": [
        {
          "output_type": "stream",
          "text": [
            "[1 2 3 4 5]\n",
            "[2 3 1 1 2]\n"
          ],
          "name": "stdout"
        }
      ]
    },
    {
      "cell_type": "markdown",
      "metadata": {
        "id": "BFG2poBCcr4x",
        "colab_type": "text"
      },
      "source": [
        "Q18. Lex x be an array <br/>\n",
        "[[ 1 2]<br/>\n",
        " [ 3 4].<br/>\n",
        "Flip x along the second axis."
      ]
    },
    {
      "cell_type": "code",
      "metadata": {
        "id": "lUxdlK0Wcr4z",
        "colab_type": "code",
        "outputId": "963bfa6b-e61b-4240-9e6f-aa48eefc8ebb",
        "colab": {
          "base_uri": "https://localhost:8080/",
          "height": 84
        }
      },
      "source": [
        "x=np.arange(1,5).reshape(2,2)\n",
        "y=np.flip(x,1)\n",
        "print(x)\n",
        "print(y)"
      ],
      "execution_count": 0,
      "outputs": [
        {
          "output_type": "stream",
          "text": [
            "[[1 2]\n",
            " [3 4]]\n",
            "[[2 1]\n",
            " [4 3]]\n"
          ],
          "name": "stdout"
        }
      ]
    },
    {
      "cell_type": "markdown",
      "metadata": {
        "id": "BjGPaC9Dcr47",
        "colab_type": "text"
      },
      "source": [
        "Q19. Lex x be an array <br/>\n",
        "[[ 1 2]<br/>\n",
        " [ 3 4].<br/>\n",
        "Flip x along the first axis."
      ]
    },
    {
      "cell_type": "code",
      "metadata": {
        "id": "D9-tWKlRcr49",
        "colab_type": "code",
        "outputId": "94634c8f-5e13-4c72-e6a6-aeb63c0ee768",
        "colab": {
          "base_uri": "https://localhost:8080/",
          "height": 84
        }
      },
      "source": [
        "x=np.arange(1,5).reshape(2,2)\n",
        "y=np.flip(x,0)\n",
        "print(x)\n",
        "print(y)"
      ],
      "execution_count": 0,
      "outputs": [
        {
          "output_type": "stream",
          "text": [
            "[[1 2]\n",
            " [3 4]]\n",
            "[[3 4]\n",
            " [1 2]]\n"
          ],
          "name": "stdout"
        }
      ]
    },
    {
      "cell_type": "markdown",
      "metadata": {
        "id": "myRnhUzKcr5F",
        "colab_type": "text"
      },
      "source": [
        "Q20. Lex x be an array <br/>\n",
        "[[ 1 2]<br/>\n",
        " [ 3 4].<br/>\n",
        "Rotate x 90 degrees counter-clockwise."
      ]
    },
    {
      "cell_type": "code",
      "metadata": {
        "id": "OFb3I2cmcr5I",
        "colab_type": "code",
        "outputId": "980c80c2-3718-430d-e77d-cd7d6147e094",
        "colab": {
          "base_uri": "https://localhost:8080/",
          "height": 84
        }
      },
      "source": [
        "x=np.arange(1,5).reshape(2,2)\n",
        "y=np.rot90(x)\n",
        "print(x)\n",
        "print(y)"
      ],
      "execution_count": 0,
      "outputs": [
        {
          "output_type": "stream",
          "text": [
            "[[1 2]\n",
            " [3 4]]\n",
            "[[2 4]\n",
            " [1 3]]\n"
          ],
          "name": "stdout"
        }
      ]
    },
    {
      "cell_type": "markdown",
      "metadata": {
        "id": "Dn35e_hpcr5O",
        "colab_type": "text"
      },
      "source": [
        "Q21 Lex x be an array <br/>\n",
        "[[ 1 2 3 4]<br/>\n",
        " [ 5 6 7 8].<br/>\n",
        "Shift elements one step to right along the second axis."
      ]
    },
    {
      "cell_type": "code",
      "metadata": {
        "id": "5-su1vUqcr5Q",
        "colab_type": "code",
        "outputId": "02a20c6a-57a5-42bf-d561-c9a18d3afa5c",
        "colab": {
          "base_uri": "https://localhost:8080/",
          "height": 84
        }
      },
      "source": [
        "x=np.arange(1,9).reshape(2,4)\n",
        "print(x)\n",
        "y=np.roll(x,1,axis=1)\n",
        "print(y)"
      ],
      "execution_count": 0,
      "outputs": [
        {
          "output_type": "stream",
          "text": [
            "[[1 2 3 4]\n",
            " [5 6 7 8]]\n",
            "[[4 1 2 3]\n",
            " [8 5 6 7]]\n"
          ],
          "name": "stdout"
        }
      ]
    }
  ]
}