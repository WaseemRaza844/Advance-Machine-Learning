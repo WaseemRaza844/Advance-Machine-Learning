{
  "nbformat": 4,
  "nbformat_minor": 0,
  "metadata": {
    "colab": {
      "name": "29thand30thDay.ipynb",
      "provenance": [],
      "collapsed_sections": [],
      "toc_visible": true,
      "include_colab_link": true
    },
    "kernelspec": {
      "name": "python3",
      "display_name": "Python 3"
    }
  },
  "cells": [
    {
      "cell_type": "markdown",
      "metadata": {
        "id": "view-in-github",
        "colab_type": "text"
      },
      "source": [
        "<a href=\"https://colab.research.google.com/github/WaseemRaza844/Advance-Machine-Learning/blob/master/29thand30thDay.ipynb\" target=\"_parent\"><img src=\"https://colab.research.google.com/assets/colab-badge.svg\" alt=\"Open In Colab\"/></a>"
      ]
    },
    {
      "cell_type": "markdown",
      "metadata": {
        "id": "38mkdmuENfVO",
        "colab_type": "text"
      },
      "source": [
        "Load the Swiss roll data "
      ]
    },
    {
      "cell_type": "code",
      "metadata": {
        "id": "cY3D89K1NkUk",
        "colab_type": "code",
        "colab": {}
      },
      "source": [
        "from sklearn.datasets import make_swiss_roll\n",
        "X_train, y_data = make_swiss_roll(n_samples=1000, noise=0.2, random_state=42)"
      ],
      "execution_count": 0,
      "outputs": []
    },
    {
      "cell_type": "markdown",
      "metadata": {
        "id": "6UiZYYNDN1KK",
        "colab_type": "text"
      },
      "source": [
        "User Kernel PCA to transform the data"
      ]
    },
    {
      "cell_type": "code",
      "metadata": {
        "id": "1UdbW9U4N3lH",
        "colab_type": "code",
        "colab": {}
      },
      "source": [
        "from sklearn.decomposition import KernelPCA\n",
        "\n",
        "rbf_pca = KernelPCA(n_components = 2, kernel=\"rbf\", gamma=0.04)\n",
        "X_reduced = rbf_pca.fit_transform(X_train)"
      ],
      "execution_count": 0,
      "outputs": []
    },
    {
      "cell_type": "markdown",
      "metadata": {
        "id": "dEpXTP3aOAJE",
        "colab_type": "text"
      },
      "source": [
        "Check the dimension of reduced data"
      ]
    },
    {
      "cell_type": "code",
      "metadata": {
        "id": "HNsWJw2AOIhV",
        "colab_type": "code",
        "outputId": "ae681c8f-5af3-442d-e6cd-68bbd7b8e418",
        "colab": {
          "base_uri": "https://localhost:8080/",
          "height": 34
        }
      },
      "source": [
        "print(f\" X_train shape is {X_train.shape} and X_reduced shape is {X_reduced.shape}\")"
      ],
      "execution_count": 0,
      "outputs": [
        {
          "output_type": "stream",
          "text": [
            " X_train shape is (1000, 3) and X_reduced shape is (1000, 2)\n"
          ],
          "name": "stdout"
        }
      ]
    },
    {
      "cell_type": "markdown",
      "metadata": {
        "id": "i17gVlYcOTNR",
        "colab_type": "text"
      },
      "source": [
        "Plot the data , original version ( mean Kernel = Linear)) vs Kernel = RBF"
      ]
    },
    {
      "cell_type": "code",
      "metadata": {
        "id": "PbK2qmR1OVdn",
        "colab_type": "code",
        "outputId": "6e7aca84-8190-4780-9165-14f9bdd54c0b",
        "colab": {
          "base_uri": "https://localhost:8080/",
          "height": 305
        }
      },
      "source": [
        "from sklearn.decomposition import KernelPCA\n",
        "import matplotlib.pyplot as plt\n",
        "lin_pca = KernelPCA(n_components = 2, kernel=\"linear\", fit_inverse_transform=True)\n",
        "rbf_pca = KernelPCA(n_components = 2, kernel=\"rbf\", gamma=0.0433, fit_inverse_transform=True)\n",
        "\n",
        "y = y_data > 6.9\n",
        "\n",
        "plt.figure(figsize=(11, 4))\n",
        "for subplot, pca, title in ((131, lin_pca, \"Linear kernel\"), \n",
        "                            (132, rbf_pca, \"RBF kernel, $\\gamma=0.04$\") ) :\n",
        "    X_reduced = pca.fit_transform(X_train)\n",
        "    if subplot == 132:\n",
        "        X_reduced_rbf = X_reduced\n",
        "    \n",
        "    plt.subplot(subplot)\n",
        "    plt.title(title, fontsize=14)\n",
        "    plt.scatter(X_reduced[:, 0], X_reduced[:, 1], c=y_data, cmap=plt.cm.hot)\n",
        "    plt.xlabel(\"$z_1$\", fontsize=18)\n",
        "    if subplot == 131:\n",
        "        plt.ylabel(\"$z_2$\", fontsize=18, rotation=0)\n",
        "    plt.grid(True)\n"
      ],
      "execution_count": 0,
      "outputs": [
        {
          "output_type": "display_data",
          "data": {
            "image/png": "[encoded data removed]",
            "text/plain": [
              "<matplotlib.figure.Figure at 0x7f1750ac5940>"
            ]
          },
          "metadata": {
            "tags": []
          }
        }
      ]
    },
    {
      "cell_type": "markdown",
      "metadata": {
        "id": "hTUIIhCNRT3m",
        "colab_type": "text"
      },
      "source": [
        "<!-- wp:paragraph -->\n",
        "<p>Since we are using <g class=\"gr_ gr_3 gr-alert gr_spell gr_inline_cards gr_run_anim ContextualSpelling ins-del multiReplace\" id=\"3\" data-gr-id=\"3\">kPCA</g> and it is an unsupervised learning algorithm, we have to find out what is the best kernel and hyper-parameters of the model.</p>\n",
        "<!-- /wp:paragraph -->\n",
        "\n",
        "<!-- wp:paragraph -->\n",
        "<p>In Machine learning, generally PCA is used as the pre processing step of supervised learning , that means we can still use the grid search to find the value of hyper-parameters and Kernel which yields best results.</p>\n",
        "<!-- /wp:paragraph -->"
      ]
    },
    {
      "cell_type": "code",
      "metadata": {
        "id": "IYjMF6zJRVER",
        "colab_type": "code",
        "outputId": "8471aefe-9e28-4da5-940a-60123081c949",
        "colab": {
          "base_uri": "https://localhost:8080/",
          "height": 241
        }
      },
      "source": [
        "from sklearn.model_selection import GridSearchCV\n",
        "from sklearn.linear_model import LogisticRegression\n",
        "from sklearn.pipeline import Pipeline\n",
        "import numpy as np\n",
        "\n",
        "clf = Pipeline([\n",
        "        (\"kpca\", KernelPCA(n_components=2)),\n",
        "        (\"log_reg\", LogisticRegression())\n",
        "    ])\n",
        "\n",
        "param_grid = [{\n",
        "        \"kpca__gamma\": np.linspace(0.03, 0.05, 10),\n",
        "        \"kpca__kernel\": [\"rbf\", \"sigmoid\"]\n",
        "    }]\n",
        "\n",
        "grid_search = GridSearchCV(clf, param_grid, cv=3)\n",
        "grid_search.fit(X_train, y)"
      ],
      "execution_count": 0,
      "outputs": [
        {
          "output_type": "execute_result",
          "data": {
            "text/plain": [
              "GridSearchCV(cv=3, error_score='raise',\n",
              "       estimator=Pipeline(memory=None,\n",
              "     steps=[('kpca', KernelPCA(alpha=1.0, coef0=1, copy_X=True, degree=3, eigen_solver='auto',\n",
              "     fit_inverse_transform=False, gamma=None, kernel='linear',\n",
              "     kernel_params=None, max_iter=None, n_components=2, n_jobs=1,\n",
              "     random_state=None, remove_zero_eig=False, tol=0)), ('log_reg', LogisticRegre...ty='l2', random_state=None, solver='liblinear', tol=0.0001,\n",
              "          verbose=0, warm_start=False))]),\n",
              "       fit_params=None, iid=True, n_jobs=1,\n",
              "       param_grid=[{'kpca__gamma': array([0.03   , 0.03222, 0.03444, 0.03667, 0.03889, 0.04111, 0.04333,\n",
              "       0.04556, 0.04778, 0.05   ]), 'kpca__kernel': ['rbf', 'sigmoid']}],\n",
              "       pre_dispatch='2*n_jobs', refit=True, return_train_score='warn',\n",
              "       scoring=None, verbose=0)"
            ]
          },
          "metadata": {
            "tags": []
          },
          "execution_count": 71
        }
      ]
    },
    {
      "cell_type": "markdown",
      "metadata": {
        "id": "9m4IHnUQSZ6U",
        "colab_type": "text"
      },
      "source": [
        "Now print the best value found by Grid Search"
      ]
    },
    {
      "cell_type": "markdown",
      "metadata": {
        "id": "GRt0nVNJT4lE",
        "colab_type": "text"
      },
      "source": [
        "#LLE"
      ]
    },
    {
      "cell_type": "code",
      "metadata": {
        "id": "6fVlfFQ4T54r",
        "colab_type": "code",
        "colab": {}
      },
      "source": [
        "from sklearn.manifold import LocallyLinearEmbedding\n",
        "\n",
        "lle = LocallyLinearEmbedding(n_components=2, n_neighbors=10, random_state=42)\n",
        "X_reduced = lle.fit_transform(X_train)"
      ],
      "execution_count": 0,
      "outputs": []
    },
    {
      "cell_type": "code",
      "metadata": {
        "id": "Ysopw9SKSJqm",
        "colab_type": "code",
        "outputId": "63157d47-238c-417f-ce07-900348d51273",
        "colab": {
          "base_uri": "https://localhost:8080/",
          "height": 34
        }
      },
      "source": [
        "print(grid_search.best_params_)"
      ],
      "execution_count": 0,
      "outputs": [
        {
          "output_type": "stream",
          "text": [
            "{'kpca__gamma': 0.043333333333333335, 'kpca__kernel': 'rbf'}\n"
          ],
          "name": "stdout"
        }
      ]
    },
    {
      "cell_type": "markdown",
      "metadata": {
        "id": "MAUrdIDX-h1H",
        "colab_type": "text"
      },
      "source": [
        "We are going to complete the exercise of chapter 8 of the Hands-on Machine learning book. \n",
        "\n",
        "###Problem Statement: \n",
        " Load the MNIST dataset  and split it into a training set and a test set (take the first 60,000 instances for training, and the remaining 10,000 for testing).Train a Random Forest classifier on the dataset and time how long it takes, then evaluate the resulting model on the test set.\n",
        " Next, use PCA to reduce the dataset's dimensionality, with an explained variance ratio of 95%.\n",
        " Train a new Random Forest classifier on the reduced dataset and see how long it takes. Was training much faster?\n",
        " Next evaluate the classifier on the test set: how does it compare to the previous classifier?"
      ]
    },
    {
      "cell_type": "code",
      "metadata": {
        "id": "C9JJVGUC-OWf",
        "colab_type": "code",
        "colab": {}
      },
      "source": [
        "from sklearn.datasets import fetch_mldata\n",
        "#mnist_data = fetch_mldata('MNIST original') #Since the SKLEARN library was failin\n",
        "#using the tensflow to download the MNIST data\n",
        "import tensorflow as tf\n",
        "(X_train, y_train), (X_test, y_test) = tf.keras.datasets.mnist.load_data()\n"
      ],
      "execution_count": 0,
      "outputs": []
    },
    {
      "cell_type": "markdown",
      "metadata": {
        "id": "WvIEyZg9-dHF",
        "colab_type": "text"
      },
      "source": [
        "Verify the size of the data. "
      ]
    },
    {
      "cell_type": "code",
      "metadata": {
        "id": "uDvIO3kHD-XD",
        "colab_type": "code",
        "outputId": "e5c6d4db-3c76-4e4b-df77-d6040cde0e0e",
        "colab": {
          "base_uri": "https://localhost:8080/",
          "height": 51
        }
      },
      "source": [
        "print(f\"Length of the X_train : {X_train.shape}, Length of y_train is : {y_train.shape}\")\n",
        "print(f\"Length of the X_test : {X_test.shape}, Length of y_test is : {y_test.shape}\")"
      ],
      "execution_count": 0,
      "outputs": [
        {
          "output_type": "stream",
          "text": [
            "Length of the X_train : (60000, 28, 28), Length of y_train is : (60000,)\n",
            "Length of the X_test : (10000, 28, 28), Length of y_test is : (10000,)\n"
          ],
          "name": "stdout"
        }
      ]
    },
    {
      "cell_type": "markdown",
      "metadata": {
        "id": "y2r03LKdGU7a",
        "colab_type": "text"
      },
      "source": [
        "Convert the X_train and X_test data into 2d array"
      ]
    },
    {
      "cell_type": "code",
      "metadata": {
        "id": "7c2nVJ6aFxAs",
        "colab_type": "code",
        "colab": {}
      },
      "source": [
        "nsamples, nx, ny = X_train.shape\n",
        "d2_X_train = X_train.reshape((nsamples,nx*ny))\n",
        "nsamples, nx, ny = X_test.shape\n",
        "d2_X_test = X_test.reshape((nsamples,nx*ny))"
      ],
      "execution_count": 0,
      "outputs": []
    },
    {
      "cell_type": "markdown",
      "metadata": {
        "id": "32R5WgCJD9pY",
        "colab_type": "text"
      },
      "source": [
        "Now , train the Random Forest Classifier and capture the time taken to train the model\n"
      ]
    },
    {
      "cell_type": "code",
      "metadata": {
        "id": "aBBro86KEloI",
        "colab_type": "code",
        "outputId": "32928028-30f9-460e-9a96-ad9745abb9f4",
        "colab": {
          "base_uri": "https://localhost:8080/",
          "height": 34
        }
      },
      "source": [
        "from sklearn.ensemble import RandomForestClassifier  #Import library\n",
        "import time\n",
        "rf_clf = RandomForestClassifier()  #Initialize the model\n",
        "start_time = time.time()\n",
        "rf_clf.fit(d2_X_train, y_train)     #\"Train the model\"\n",
        "print(\"Time taken by model :\", \"--- %s seconds ---\" % (time.time() - start_time))\n"
      ],
      "execution_count": 0,
      "outputs": [
        {
          "output_type": "stream",
          "text": [
            "Time taken by model : --- 6.602773189544678 seconds ---\n"
          ],
          "name": "stdout"
        }
      ]
    },
    {
      "cell_type": "markdown",
      "metadata": {
        "id": "_atLj0IvHTpq",
        "colab_type": "text"
      },
      "source": [
        "Perfrom the prediction on test data"
      ]
    },
    {
      "cell_type": "code",
      "metadata": {
        "id": "mAWKzeO2G_jG",
        "colab_type": "code",
        "colab": {}
      },
      "source": [
        "y_predict =  rf_clf.predict(d2_X_test)"
      ],
      "execution_count": 0,
      "outputs": []
    },
    {
      "cell_type": "markdown",
      "metadata": {
        "id": "8YZmDAL0GmHH",
        "colab_type": "text"
      },
      "source": [
        "Now, lets measure the accuracy of the classifier"
      ]
    },
    {
      "cell_type": "code",
      "metadata": {
        "id": "zne3v136GAC5",
        "colab_type": "code",
        "outputId": "f174c605-5006-499b-d7ef-d96dffba6404",
        "colab": {
          "base_uri": "https://localhost:8080/",
          "height": 34
        }
      },
      "source": [
        "from sklearn.metrics import accuracy_score\n",
        "print(f\"Accuracy is {accuracy_score(y_predict, y_test)* 100} %\")"
      ],
      "execution_count": 0,
      "outputs": [
        {
          "output_type": "stream",
          "text": [
            "Accuracy is 94.64 %\n"
          ],
          "name": "stdout"
        }
      ]
    },
    {
      "cell_type": "markdown",
      "metadata": {
        "id": "9TyVNJhYHvEt",
        "colab_type": "text"
      },
      "source": [
        "Next, use PCA to reduce the dataset's dimensionality, with an explained variance ratio of 95%."
      ]
    },
    {
      "cell_type": "code",
      "metadata": {
        "id": "cgRXlgzgHaX8",
        "colab_type": "code",
        "colab": {}
      },
      "source": [
        "from sklearn.decomposition import PCA\n",
        "pca = PCA(n_components = .95 )   #This will insure that 95% variance is covered\n",
        "X_train_reduced  = pca.fit_transform(d2_X_train)"
      ],
      "execution_count": 0,
      "outputs": []
    },
    {
      "cell_type": "markdown",
      "metadata": {
        "id": "kd8rom_eIza1",
        "colab_type": "text"
      },
      "source": [
        "Verify the reduced shape before we start training new model"
      ]
    },
    {
      "cell_type": "code",
      "metadata": {
        "id": "N3gkOMvmIUyi",
        "colab_type": "code",
        "outputId": "1e0de0fd-1618-4d67-fdf2-83a0840eff73",
        "colab": {
          "base_uri": "https://localhost:8080/",
          "height": 34
        }
      },
      "source": [
        "print(f\" X_train shape is {d2_X_train.shape} and X_train_reduced shape is {X_train_reduced.shape}\")"
      ],
      "execution_count": 0,
      "outputs": [
        {
          "output_type": "stream",
          "text": [
            " X_train shape is (60000, 784) and X_train_reduced shape is (60000, 154)\n"
          ],
          "name": "stdout"
        }
      ]
    },
    {
      "cell_type": "markdown",
      "metadata": {
        "id": "9-IhnNJhI7XX",
        "colab_type": "text"
      },
      "source": [
        "Train a new Random Forest classifier on the reduced dataset and see how long it takes"
      ]
    },
    {
      "cell_type": "code",
      "metadata": {
        "id": "XWTiK42gIjjt",
        "colab_type": "code",
        "outputId": "b93bf1e8-6e64-4eaa-c374-e70f5bb77166",
        "colab": {
          "base_uri": "https://localhost:8080/",
          "height": 34
        }
      },
      "source": [
        "rf_clf2 = RandomForestClassifier(random_state = 42)\n",
        "start_time2 = time.time()\n",
        "rf_clf2.fit(X_train_reduced, y_train)     #\"Train the model\"\n",
        "print(\"Time taken by model :\", \"--- %s seconds ---\" % (time.time() - start_time2))\n"
      ],
      "execution_count": 0,
      "outputs": [
        {
          "output_type": "stream",
          "text": [
            "Time taken by model : --- 12.577162742614746 seconds ---\n"
          ],
          "name": "stdout"
        }
      ]
    },
    {
      "cell_type": "markdown",
      "metadata": {
        "id": "2ole3_QyJZJ3",
        "colab_type": "text"
      },
      "source": [
        "Time taken by this new model is heigher than than our previous model.  This is common, using PCA does not always gurantee the faster speed.\n",
        "\n",
        "Next evaluate the classifier on the test set"
      ]
    },
    {
      "cell_type": "code",
      "metadata": {
        "id": "F9ogunzGJxh7",
        "colab_type": "code",
        "outputId": "f445d016-df07-45b9-dcbe-de5f5cb2c408",
        "colab": {
          "base_uri": "https://localhost:8080/",
          "height": 34
        }
      },
      "source": [
        "X_test_reduced = pca.transform(d2_X_test)  #Reduce the dimensionality first \"\"\n",
        "y_predict2 = rf_clf2.predict(X_test_reduced)  #Predic the values using Model\n",
        "print(f\"Accuracy is {accuracy_score(y_predict2, y_test)* 100} %\") #Print the accuracy"
      ],
      "execution_count": 0,
      "outputs": [
        {
          "output_type": "stream",
          "text": [
            "Accuracy is 90.09 %\n"
          ],
          "name": "stdout"
        }
      ]
    },
    {
      "cell_type": "markdown",
      "metadata": {
        "id": "aWDvWxaaK_dK",
        "colab_type": "text"
      },
      "source": [
        "Our model has predicted with accuracy of 90%. Performance of model is slightly degraded when you use the  PCA as we are reducing the dimensionality."
      ]
    },
    {
      "cell_type": "code",
      "metadata": {
        "id": "zCozrvAEJ-kT",
        "colab_type": "code",
        "colab": {}
      },
      "source": [
        ""
      ],
      "execution_count": 0,
      "outputs": []
    }
  ]
}