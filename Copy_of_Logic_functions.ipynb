{
  "nbformat": 4,
  "nbformat_minor": 0,
  "metadata": {
    "kernelspec": {
      "display_name": "Python 2",
      "language": "python",
      "name": "python2"
    },
    "language_info": {
      "codemirror_mode": {
        "name": "ipython",
        "version": 2
      },
      "file_extension": ".py",
      "mimetype": "text/x-python",
      "name": "python",
      "nbconvert_exporter": "python",
      "pygments_lexer": "ipython2",
      "version": "2.7.12"
    },
    "colab": {
      "name": "Copy of Logic_functions.ipynb",
      "provenance": [],
      "toc_visible": true,
      "include_colab_link": true
    }
  },
  "cells": [
    {
      "cell_type": "markdown",
      "metadata": {
        "id": "view-in-github",
        "colab_type": "text"
      },
      "source": [
        "<a href=\"https://colab.research.google.com/github/WaseemRaza844/Advance-Machine-Learning/blob/master/Copy_of_Logic_functions.ipynb\" target=\"_parent\"><img src=\"https://colab.research.google.com/assets/colab-badge.svg\" alt=\"Open In Colab\"/></a>"
      ]
    },
    {
      "cell_type": "markdown",
      "metadata": {
        "id": "S3bTBnQ3kMic",
        "colab_type": "text"
      },
      "source": [
        "# Logic functions"
      ]
    },
    {
      "cell_type": "code",
      "metadata": {
        "id": "Z3KDnrMRkMik",
        "colab_type": "code",
        "colab": {}
      },
      "source": [
        "import numpy as np"
      ],
      "execution_count": 0,
      "outputs": []
    },
    {
      "cell_type": "code",
      "metadata": {
        "id": "Mna0NPVWkMiu",
        "colab_type": "code",
        "outputId": "b26e0f3b-0a2a-409e-f6c8-ab287ccdd03e",
        "colab": {
          "base_uri": "https://localhost:8080/",
          "height": 34
        }
      },
      "source": [
        "np.__version__"
      ],
      "execution_count": 0,
      "outputs": [
        {
          "output_type": "execute_result",
          "data": {
            "text/plain": [
              "'1.16.4'"
            ]
          },
          "metadata": {
            "tags": []
          },
          "execution_count": 3
        }
      ]
    },
    {
      "cell_type": "markdown",
      "metadata": {
        "id": "o0BUKCUikMi5",
        "colab_type": "text"
      },
      "source": [
        "## Truth value testing\n"
      ]
    },
    {
      "cell_type": "markdown",
      "metadata": {
        "id": "V-H1NeKGkMi6",
        "colab_type": "text"
      },
      "source": [
        "Q1. Let x be an arbitrary array. Return True if none of the elements of x is zero. Remind that 0 evaluates to False in python.\n"
      ]
    },
    {
      "cell_type": "code",
      "metadata": {
        "id": "KUNNSTv9kMi9",
        "colab_type": "code",
        "outputId": "b4a01f11-eaa0-4013-eef9-66e11e62a069",
        "colab": {
          "base_uri": "https://localhost:8080/",
          "height": 50
        }
      },
      "source": [
        "x = np.array([1,2,3])\n",
        "print(np.any(x==0))\n",
        "x = np.array([1,0,3])\n",
        "print(np.any(x==0))"
      ],
      "execution_count": 0,
      "outputs": [
        {
          "output_type": "stream",
          "text": [
            "False\n",
            "True\n"
          ],
          "name": "stdout"
        }
      ]
    },
    {
      "cell_type": "markdown",
      "metadata": {
        "id": "gvpy1CymkMjG",
        "colab_type": "text"
      },
      "source": [
        "Q2. Let x be an arbitrary array. Return True if any of the elements of x is non-zero."
      ]
    },
    {
      "cell_type": "code",
      "metadata": {
        "id": "hoj_hCiNkMjI",
        "colab_type": "code",
        "outputId": "a3f902f2-510c-4b69-f945-3a486cca2b36",
        "colab": {
          "base_uri": "https://localhost:8080/",
          "height": 50
        }
      },
      "source": [
        "x = np.array([1,0,0])\n",
        "print(np.any(x!=0))\n",
        "x = np.array([0,0,0])\n",
        "print(np.any(x!=0))"
      ],
      "execution_count": 0,
      "outputs": [
        {
          "output_type": "stream",
          "text": [
            "True\n",
            "False\n"
          ],
          "name": "stdout"
        }
      ]
    },
    {
      "cell_type": "markdown",
      "metadata": {
        "id": "In07wxG1kMjP",
        "colab_type": "text"
      },
      "source": [
        "## Array contents\n"
      ]
    },
    {
      "cell_type": "markdown",
      "metadata": {
        "id": "Hv23qfrGkMjR",
        "colab_type": "text"
      },
      "source": [
        "Q3. Predict the result of the following code."
      ]
    },
    {
      "cell_type": "code",
      "metadata": {
        "id": "8YFdm8y4kMjX",
        "colab_type": "code",
        "colab": {}
      },
      "source": [
        "x = np.array([1, 0, np.nan, np.inf])\n",
        "# print(np.isfinite(x))"
      ],
      "execution_count": 0,
      "outputs": []
    },
    {
      "cell_type": "markdown",
      "metadata": {
        "id": "FY2y2sS8o3De",
        "colab_type": "text"
      },
      "source": [
        "[ True  True False False]"
      ]
    },
    {
      "cell_type": "markdown",
      "metadata": {
        "id": "7Oo_v6xgkMjd",
        "colab_type": "text"
      },
      "source": [
        "Q4. Predict the result of the following code."
      ]
    },
    {
      "cell_type": "code",
      "metadata": {
        "id": "MIAIRLb2kMjf",
        "colab_type": "code",
        "colab": {}
      },
      "source": [
        "x = np.array([1, 0, np.nan, np.inf])\n",
        "# print(np.isinf(x))"
      ],
      "execution_count": 0,
      "outputs": []
    },
    {
      "cell_type": "markdown",
      "metadata": {
        "id": "jhRSScmFpERC",
        "colab_type": "text"
      },
      "source": [
        "[False False False  True]"
      ]
    },
    {
      "cell_type": "markdown",
      "metadata": {
        "id": "UFHqVASEkMjp",
        "colab_type": "text"
      },
      "source": [
        "Q5. Predict the result of the following code."
      ]
    },
    {
      "cell_type": "code",
      "metadata": {
        "id": "au0FlhPkkMjr",
        "colab_type": "code",
        "colab": {}
      },
      "source": [
        "x = np.array([1, 0, np.nan, np.inf])\n",
        "#print np.isnan(x)"
      ],
      "execution_count": 0,
      "outputs": []
    },
    {
      "cell_type": "markdown",
      "metadata": {
        "id": "-Zspq1-jpTEr",
        "colab_type": "text"
      },
      "source": [
        ""
      ]
    },
    {
      "cell_type": "markdown",
      "metadata": {
        "colab_type": "text",
        "id": "NctHstRrpUVc"
      },
      "source": [
        "[False False True False]"
      ]
    },
    {
      "cell_type": "markdown",
      "metadata": {
        "id": "tVG59Gf_kMj3",
        "colab_type": "text"
      },
      "source": [
        "## Array type testing"
      ]
    },
    {
      "cell_type": "markdown",
      "metadata": {
        "id": "W2vfnlT1kMj5",
        "colab_type": "text"
      },
      "source": [
        "Q6. Predict the result of the following code."
      ]
    },
    {
      "cell_type": "code",
      "metadata": {
        "id": "umrHfkGVkMj7",
        "colab_type": "code",
        "outputId": "859568c1-d07d-4b81-e993-c428449db058",
        "colab": {
          "base_uri": "https://localhost:8080/",
          "height": 34
        }
      },
      "source": [
        "x = np.array([1+1j, 1+0j, 4.5, 3, 2, 2j])\n",
        "# print(np.iscomplex(x))"
      ],
      "execution_count": 0,
      "outputs": [
        {
          "output_type": "stream",
          "text": [
            "[ True False False False False  True]\n"
          ],
          "name": "stdout"
        }
      ]
    },
    {
      "cell_type": "markdown",
      "metadata": {
        "id": "ZlPnCaZpplDU",
        "colab_type": "text"
      },
      "source": [
        "[ True False False False False  True]"
      ]
    },
    {
      "cell_type": "markdown",
      "metadata": {
        "id": "wpVTo8MTkMkC",
        "colab_type": "text"
      },
      "source": [
        "Q7. Predict the result of the following code."
      ]
    },
    {
      "cell_type": "code",
      "metadata": {
        "id": "pNxza2MfkMkI",
        "colab_type": "code",
        "colab": {}
      },
      "source": [
        "x = np.array([1+1j, 1+0j, 4.5, 3, 2, 2j])\n",
        "#print np.isreal(x)"
      ],
      "execution_count": 0,
      "outputs": []
    },
    {
      "cell_type": "markdown",
      "metadata": {
        "id": "7JUU76hbqMmj",
        "colab_type": "text"
      },
      "source": [
        "[False False True True True False]"
      ]
    },
    {
      "cell_type": "markdown",
      "metadata": {
        "id": "I-3RDXU-kMkQ",
        "colab_type": "text"
      },
      "source": [
        "Q8. Predict the result of the following code."
      ]
    },
    {
      "cell_type": "code",
      "metadata": {
        "id": "0WeA0I2HkMkW",
        "colab_type": "code",
        "colab": {}
      },
      "source": [
        "#print(np.isscalar(3))\n",
        "#print(np.isscalar([3]))\n",
        "#print(np.isscalar(True))\n"
      ],
      "execution_count": 0,
      "outputs": []
    },
    {
      "cell_type": "markdown",
      "metadata": {
        "id": "Bmzrtb3XqqgM",
        "colab_type": "text"
      },
      "source": [
        "True\n",
        "\n",
        "False\n",
        "\n",
        "True"
      ]
    },
    {
      "cell_type": "markdown",
      "metadata": {
        "id": "LQ9b9sjnkMkd",
        "colab_type": "text"
      },
      "source": [
        "## Logical operations"
      ]
    },
    {
      "cell_type": "markdown",
      "metadata": {
        "id": "xRSXMoqkkMkf",
        "colab_type": "text"
      },
      "source": [
        "Q9. Predict the result of the following code."
      ]
    },
    {
      "cell_type": "code",
      "metadata": {
        "id": "TERn3-aJkMki",
        "colab_type": "code",
        "colab": {}
      },
      "source": [
        "#print(np.logical_and([True, False], [False, False]))\n",
        "#print(np.logical_or([True, False, True], [True, False, False]))\n",
        "#print(np.logical_xor([True, False, True], [True, False, False]))\n",
        "#print(np.logical_not([True, False, 0, 1]))"
      ],
      "execution_count": 0,
      "outputs": []
    },
    {
      "cell_type": "markdown",
      "metadata": {
        "id": "PETrMZPXrECC",
        "colab_type": "text"
      },
      "source": [
        "[False False]\n",
        "\n",
        "[True False  True]\n",
        "\n",
        "[False False  True]\n",
        "\n",
        "[False  True  True False]"
      ]
    },
    {
      "cell_type": "markdown",
      "metadata": {
        "id": "RhErVyFxkMkv",
        "colab_type": "text"
      },
      "source": [
        "## Comparison"
      ]
    },
    {
      "cell_type": "markdown",
      "metadata": {
        "id": "DydjyWY_kMkx",
        "colab_type": "text"
      },
      "source": [
        "Q10. Predict the result of the following code."
      ]
    },
    {
      "cell_type": "code",
      "metadata": {
        "id": "mIeXyCWBkMkz",
        "colab_type": "code",
        "outputId": "baed435a-dc2e-43c8-aa3f-42a923a92d7e",
        "colab": {
          "base_uri": "https://localhost:8080/",
          "height": 50
        }
      },
      "source": [
        "#print np.allclose([3], [2.999999])\n",
        "#print np.array_equal([3], [2.999999])"
      ],
      "execution_count": 0,
      "outputs": [
        {
          "output_type": "stream",
          "text": [
            "True\n",
            "False\n"
          ],
          "name": "stdout"
        }
      ]
    },
    {
      "cell_type": "markdown",
      "metadata": {
        "id": "uzGnxmMUs2xf",
        "colab_type": "text"
      },
      "source": [
        "True\n",
        "\n",
        "False"
      ]
    },
    {
      "cell_type": "markdown",
      "metadata": {
        "id": "JbxiLd58kMk9",
        "colab_type": "text"
      },
      "source": [
        "Q11. Write numpy comparison functions such that they return the results as you see."
      ]
    },
    {
      "cell_type": "code",
      "metadata": {
        "id": "lwyWWVtVkMk-",
        "colab_type": "code",
        "outputId": "547d7d0a-9529-4a3b-a28e-602e788602aa",
        "colab": {
          "base_uri": "https://localhost:8080/",
          "height": 84
        }
      },
      "source": [
        "x = np.array([4, 5])\n",
        "y = np.array([2, 5])\n",
        "print(np.greater(x, y))\n",
        "print(np.greater_equal(x, y))\n",
        "print(np.less(x, y))\n",
        "print(np.less_equal(x, y))"
      ],
      "execution_count": 0,
      "outputs": [
        {
          "output_type": "stream",
          "text": [
            "[ True False]\n",
            "[ True  True]\n",
            "[False False]\n",
            "[False  True]\n"
          ],
          "name": "stdout"
        }
      ]
    },
    {
      "cell_type": "markdown",
      "metadata": {
        "id": "5caWfAFRkMlC",
        "colab_type": "text"
      },
      "source": [
        "Q12. Predict the result of the following code."
      ]
    },
    {
      "cell_type": "code",
      "metadata": {
        "id": "3Jn7Ge1akMlE",
        "colab_type": "code",
        "colab": {}
      },
      "source": [
        "#print np.equal([1, 2], [1, 2.000001])\n",
        "#print np.isclose([1, 2], [1, 2.000001])"
      ],
      "execution_count": 0,
      "outputs": []
    },
    {
      "cell_type": "markdown",
      "metadata": {
        "id": "77w3mh3tuXio",
        "colab_type": "text"
      },
      "source": [
        "[ True False]\n",
        "\n",
        "[ True  True]"
      ]
    }
  ]
}