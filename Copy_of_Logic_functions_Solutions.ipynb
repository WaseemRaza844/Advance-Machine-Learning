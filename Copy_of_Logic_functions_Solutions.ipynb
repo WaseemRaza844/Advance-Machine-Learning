{
  "nbformat": 4,
  "nbformat_minor": 0,
  "metadata": {
    "kernelspec": {
      "display_name": "Python 2",
      "language": "python",
      "name": "python2"
    },
    "language_info": {
      "codemirror_mode": {
        "name": "ipython",
        "version": 2
      },
      "file_extension": ".py",
      "mimetype": "text/x-python",
      "name": "python",
      "nbconvert_exporter": "python",
      "pygments_lexer": "ipython2",
      "version": "2.7.12"
    },
    "colab": {
      "name": "Copy of Logic_functions_Solutions.ipynb",
      "provenance": [],
      "toc_visible": true,
      "include_colab_link": true
    }
  },
  "cells": [
    {
      "cell_type": "markdown",
      "metadata": {
        "id": "view-in-github",
        "colab_type": "text"
      },
      "source": [
        "<a href=\"https://colab.research.google.com/github/WaseemRaza844/Advance-Machine-Learning/blob/master/Copy_of_Logic_functions_Solutions.ipynb\" target=\"_parent\"><img src=\"https://colab.research.google.com/assets/colab-badge.svg\" alt=\"Open In Colab\"/></a>"
      ]
    },
    {
      "cell_type": "markdown",
      "metadata": {
        "id": "V63psNoyTSz9",
        "colab_type": "text"
      },
      "source": [
        "# Logic functions"
      ]
    },
    {
      "cell_type": "code",
      "metadata": {
        "id": "uE_x8LPLTS0C",
        "colab_type": "code",
        "colab": {}
      },
      "source": [
        "import numpy as np"
      ],
      "execution_count": 0,
      "outputs": []
    },
    {
      "cell_type": "code",
      "metadata": {
        "id": "wkchMGGfTS0M",
        "colab_type": "code",
        "outputId": "02a06f4e-dd35-428f-ab1a-d2b09afb68a3",
        "colab": {}
      },
      "source": [
        "np.__version__"
      ],
      "execution_count": 0,
      "outputs": [
        {
          "output_type": "execute_result",
          "data": {
            "text/plain": [
              "'1.11.2'"
            ]
          },
          "metadata": {
            "tags": []
          },
          "execution_count": 2
        }
      ]
    },
    {
      "cell_type": "markdown",
      "metadata": {
        "id": "zMXBQAQkTS0T",
        "colab_type": "text"
      },
      "source": [
        "## Truth value testing\n"
      ]
    },
    {
      "cell_type": "markdown",
      "metadata": {
        "id": "fTxMjFENTS0V",
        "colab_type": "text"
      },
      "source": [
        "Q1. Let x be an arbitrary array. Return True if none of the elements of x is zero. Remind that 0 evaluates to False in python.\n"
      ]
    },
    {
      "cell_type": "code",
      "metadata": {
        "id": "X-BI4oqDTS0X",
        "colab_type": "code",
        "outputId": "126b813c-5601-4d0d-ca35-34376e710643",
        "colab": {}
      },
      "source": [
        "x = np.array([1,2,3])\n",
        "print np.all(x)\n",
        "\n",
        "x = np.array([1,0,3])\n",
        "print np.all(x)"
      ],
      "execution_count": 0,
      "outputs": [
        {
          "output_type": "stream",
          "text": [
            "True\n",
            "False\n"
          ],
          "name": "stdout"
        }
      ]
    },
    {
      "cell_type": "markdown",
      "metadata": {
        "id": "KXYZG51NTS0e",
        "colab_type": "text"
      },
      "source": [
        "Q2. Let x be an arbitrary array. Return True if any of the elements of x is non-zero."
      ]
    },
    {
      "cell_type": "code",
      "metadata": {
        "id": "nNUYdwUjTS0g",
        "colab_type": "code",
        "outputId": "0cc830be-5e2c-4e0e-df7d-519e5b3483fa",
        "colab": {}
      },
      "source": [
        "x = np.array([1,0,0])\n",
        "print np.any(x)\n",
        "\n",
        "x = np.array([0,0,0])\n",
        "print np.any(x)"
      ],
      "execution_count": 0,
      "outputs": [
        {
          "output_type": "stream",
          "text": [
            "True\n",
            "False\n"
          ],
          "name": "stdout"
        }
      ]
    },
    {
      "cell_type": "markdown",
      "metadata": {
        "id": "PxItJXfrTS0m",
        "colab_type": "text"
      },
      "source": [
        "## Array contents\n"
      ]
    },
    {
      "cell_type": "markdown",
      "metadata": {
        "id": "o5AQEnFXTS0o",
        "colab_type": "text"
      },
      "source": [
        "Q3. Predict the result of the following code."
      ]
    },
    {
      "cell_type": "code",
      "metadata": {
        "id": "tXC-3G4dTS0q",
        "colab_type": "code",
        "colab": {}
      },
      "source": [
        "x = np.array([1, 0, np.nan, np.inf])\n",
        "#print np.isfinite(x)"
      ],
      "execution_count": 0,
      "outputs": []
    },
    {
      "cell_type": "markdown",
      "metadata": {
        "id": "3Mpvxca7TS0w",
        "colab_type": "text"
      },
      "source": [
        "Q4. Predict the result of the following code."
      ]
    },
    {
      "cell_type": "code",
      "metadata": {
        "id": "nWdVKTMqTS0y",
        "colab_type": "code",
        "colab": {}
      },
      "source": [
        "x = np.array([1, 0, np.nan, np.inf])\n",
        "#print np.isinf(x)"
      ],
      "execution_count": 0,
      "outputs": []
    },
    {
      "cell_type": "markdown",
      "metadata": {
        "id": "XJnZXXefTS04",
        "colab_type": "text"
      },
      "source": [
        "Q5. Predict the result of the following code."
      ]
    },
    {
      "cell_type": "code",
      "metadata": {
        "id": "3UYPB4YCTS05",
        "colab_type": "code",
        "colab": {}
      },
      "source": [
        "x = np.array([1, 0, np.nan, np.inf])\n",
        "#print np.isnan(x)"
      ],
      "execution_count": 0,
      "outputs": []
    },
    {
      "cell_type": "markdown",
      "metadata": {
        "id": "bHDfSfAdTS1C",
        "colab_type": "text"
      },
      "source": [
        "## Array type testing"
      ]
    },
    {
      "cell_type": "markdown",
      "metadata": {
        "id": "qgUetvATTS1F",
        "colab_type": "text"
      },
      "source": [
        "Q6. Predict the result of the following code."
      ]
    },
    {
      "cell_type": "code",
      "metadata": {
        "id": "AMtlbLYeTS1H",
        "colab_type": "code",
        "colab": {}
      },
      "source": [
        "x = np.array([1+1j, 1+0j, 4.5, 3, 2, 2j])\n",
        "#print np.iscomplex(x)"
      ],
      "execution_count": 0,
      "outputs": []
    },
    {
      "cell_type": "markdown",
      "metadata": {
        "id": "Y7AwIbY8TS1N",
        "colab_type": "text"
      },
      "source": [
        "Q7. Predict the result of the following code."
      ]
    },
    {
      "cell_type": "code",
      "metadata": {
        "id": "NTXGDdDnTS1U",
        "colab_type": "code",
        "colab": {}
      },
      "source": [
        "x = np.array([1+1j, 1+0j, 4.5, 3, 2, 2j])\n",
        "#print np.isreal(x)"
      ],
      "execution_count": 0,
      "outputs": []
    },
    {
      "cell_type": "markdown",
      "metadata": {
        "id": "tx_W_IK5TS1Z",
        "colab_type": "text"
      },
      "source": [
        "Q8. Predict the result of the following code."
      ]
    },
    {
      "cell_type": "code",
      "metadata": {
        "id": "3x2D-vAfTS1a",
        "colab_type": "code",
        "colab": {}
      },
      "source": [
        "#print np.isscalar(3)\n",
        "#print np.isscalar([3])\n",
        "#print np.isscalar(True)"
      ],
      "execution_count": 0,
      "outputs": []
    },
    {
      "cell_type": "markdown",
      "metadata": {
        "id": "Dy5j7if0TS1g",
        "colab_type": "text"
      },
      "source": [
        "## Logical operations"
      ]
    },
    {
      "cell_type": "markdown",
      "metadata": {
        "id": "echVciumTS1i",
        "colab_type": "text"
      },
      "source": [
        "Q9. Predict the result of the following code."
      ]
    },
    {
      "cell_type": "code",
      "metadata": {
        "id": "GnD3PXz_TS1k",
        "colab_type": "code",
        "colab": {}
      },
      "source": [
        "#print np.logical_and([True, False], [False, False])\n",
        "#print np.logical_or([True, False, True], [True, False, False])\n",
        "#print np.logical_xor([True, False, True], [True, False, False])\n",
        "#print np.logical_not([True, False, 0, 1])\n"
      ],
      "execution_count": 0,
      "outputs": []
    },
    {
      "cell_type": "markdown",
      "metadata": {
        "id": "50_TMGqzTS1q",
        "colab_type": "text"
      },
      "source": [
        "## Comparison"
      ]
    },
    {
      "cell_type": "markdown",
      "metadata": {
        "id": "wX3Kzl7sTS1s",
        "colab_type": "text"
      },
      "source": [
        "Q10. Predict the result of the following code."
      ]
    },
    {
      "cell_type": "code",
      "metadata": {
        "id": "qUP4-OvmTS1u",
        "colab_type": "code",
        "colab": {}
      },
      "source": [
        "#print np.allclose([3], [2.999999])\n",
        "#print np.array_equal([3], [2.999999])"
      ],
      "execution_count": 0,
      "outputs": []
    },
    {
      "cell_type": "markdown",
      "metadata": {
        "id": "AYW-HEKKTS1z",
        "colab_type": "text"
      },
      "source": [
        "Q11. Write numpy comparison functions such that they return the results as you see."
      ]
    },
    {
      "cell_type": "code",
      "metadata": {
        "id": "Bfu8c_xYTS11",
        "colab_type": "code",
        "outputId": "b6b715c7-bdf5-4f82-a086-52583eef4583",
        "colab": {}
      },
      "source": [
        "x = np.array([4, 5])\n",
        "y = np.array([2, 5])\n",
        "print np.greater(x, y)\n",
        "print np.greater_equal(x, y)\n",
        "print np.less(x, y)\n",
        "print np.less_equal(x, y)\n"
      ],
      "execution_count": 0,
      "outputs": [
        {
          "output_type": "stream",
          "text": [
            "[ True False]\n",
            "[ True  True]\n",
            "[False False]\n",
            "[False  True]\n"
          ],
          "name": "stdout"
        }
      ]
    },
    {
      "cell_type": "markdown",
      "metadata": {
        "id": "DGKQw9MSTS16",
        "colab_type": "text"
      },
      "source": [
        "Q12. Predict the result of the following code."
      ]
    },
    {
      "cell_type": "code",
      "metadata": {
        "id": "kYeHRCSUTS18",
        "colab_type": "code",
        "colab": {}
      },
      "source": [
        "#print np.equal([1, 2], [1, 2.000001])\n",
        "#print np.isclose([1, 2], [1, 2.000001])"
      ],
      "execution_count": 0,
      "outputs": []
    },
    {
      "cell_type": "code",
      "metadata": {
        "id": "lbyvyUgWTS2D",
        "colab_type": "code",
        "colab": {}
      },
      "source": [
        ""
      ],
      "execution_count": 0,
      "outputs": []
    }
  ]
}