{
  "nbformat": 4,
  "nbformat_minor": 0,
  "metadata": {
    "kernelspec": {
      "display_name": "Python 2",
      "language": "python",
      "name": "python2"
    },
    "language_info": {
      "codemirror_mode": {
        "name": "ipython",
        "version": 2
      },
      "file_extension": ".py",
      "mimetype": "text/x-python",
      "name": "python",
      "nbconvert_exporter": "python",
      "pygments_lexer": "ipython2",
      "version": "2.7.10"
    },
    "colab": {
      "name": "Copy of Set_routines.ipynb",
      "provenance": [],
      "toc_visible": true,
      "include_colab_link": true
    }
  },
  "cells": [
    {
      "cell_type": "markdown",
      "metadata": {
        "id": "view-in-github",
        "colab_type": "text"
      },
      "source": [
        "<a href=\"https://colab.research.google.com/github/WaseemRaza844/Advance-Machine-Learning/blob/master/Copy_of_Set_routines.ipynb\" target=\"_parent\"><img src=\"https://colab.research.google.com/assets/colab-badge.svg\" alt=\"Open In Colab\"/></a>"
      ]
    },
    {
      "cell_type": "markdown",
      "metadata": {
        "id": "GAX1E7QiIJzx",
        "colab_type": "text"
      },
      "source": [
        "# Set routines"
      ]
    },
    {
      "cell_type": "code",
      "metadata": {
        "id": "iPtopO9DIJz0",
        "colab_type": "code",
        "colab": {}
      },
      "source": [
        "import numpy as np"
      ],
      "execution_count": 0,
      "outputs": []
    },
    {
      "cell_type": "code",
      "metadata": {
        "id": "LuMs34oMIJz5",
        "colab_type": "code",
        "outputId": "907e6040-0b49-4989-fe19-7836f7083933",
        "colab": {
          "base_uri": "https://localhost:8080/",
          "height": 34
        }
      },
      "source": [
        "np.__version__"
      ],
      "execution_count": 0,
      "outputs": [
        {
          "output_type": "execute_result",
          "data": {
            "text/plain": [
              "'1.16.4'"
            ]
          },
          "metadata": {
            "tags": []
          },
          "execution_count": 3
        }
      ]
    },
    {
      "cell_type": "code",
      "metadata": {
        "id": "Es2FubMMIJz_",
        "colab_type": "code",
        "colab": {}
      },
      "source": [
        "author = 'kyubyong. longinglove@nate.com'"
      ],
      "execution_count": 0,
      "outputs": []
    },
    {
      "cell_type": "markdown",
      "metadata": {
        "id": "cKBM4cNNIJ0D",
        "colab_type": "text"
      },
      "source": [
        "## Making proper sets"
      ]
    },
    {
      "cell_type": "markdown",
      "metadata": {
        "id": "mVEu6X67IJ0E",
        "colab_type": "text"
      },
      "source": [
        "Q1. Get unique elements and reconstruction indices from x. And reconstruct x."
      ]
    },
    {
      "cell_type": "code",
      "metadata": {
        "id": "Nr5aUYgPIJ0G",
        "colab_type": "code",
        "outputId": "6f3de905-4445-4d75-f529-5039a4f9e72d",
        "colab": {
          "base_uri": "https://localhost:8080/",
          "height": 67
        }
      },
      "source": [
        "x = np.array([1, 2, 6, 4, 2, 3, 2])\n",
        "unique_elements, reconstruction_indices = np.unique(x, return_inverse=True)\n",
        "print(unique_elements)\n",
        "print(reconstruction_indices)\n",
        "reconstructed = unique_elements[reconstruction_indices]\n",
        "print(reconstructed)"
      ],
      "execution_count": 0,
      "outputs": [
        {
          "output_type": "stream",
          "text": [
            "[1 2 3 4 6]\n",
            "[0 1 4 3 1 2 1]\n",
            "[1 2 6 4 2 3 2]\n"
          ],
          "name": "stdout"
        }
      ]
    },
    {
      "cell_type": "markdown",
      "metadata": {
        "id": "TeGl9kesIJ0K",
        "colab_type": "text"
      },
      "source": [
        "## Boolean operations"
      ]
    },
    {
      "cell_type": "markdown",
      "metadata": {
        "id": "RkTnPkHvIJ0M",
        "colab_type": "text"
      },
      "source": [
        "Q2. Create a boolean array of the same shape as x. If each element of x is present in y, the result will be True, otherwise False."
      ]
    },
    {
      "cell_type": "code",
      "metadata": {
        "id": "tWZKNVjoIJ0N",
        "colab_type": "code",
        "outputId": "d8aeb321-e926-4483-fb23-a40a14376655",
        "colab": {
          "base_uri": "https://localhost:8080/",
          "height": 34
        }
      },
      "source": [
        "x = np.array([0, 1, 2, 5, 0])\n",
        "y = np.array([0, 1])\n",
        "np.isin(x,y)"
      ],
      "execution_count": 0,
      "outputs": [
        {
          "output_type": "execute_result",
          "data": {
            "text/plain": [
              "array([ True,  True, False, False,  True])"
            ]
          },
          "metadata": {
            "tags": []
          },
          "execution_count": 11
        }
      ]
    },
    {
      "cell_type": "markdown",
      "metadata": {
        "id": "1VXsooqLIJ0R",
        "colab_type": "text"
      },
      "source": [
        "Q3. Find the unique intersection of x and y."
      ]
    },
    {
      "cell_type": "code",
      "metadata": {
        "id": "7nJutt_CIJ0S",
        "colab_type": "code",
        "outputId": "0ad704e6-0da7-46e2-a8e7-989643bbcd3d",
        "colab": {
          "base_uri": "https://localhost:8080/",
          "height": 34
        }
      },
      "source": [
        "x = np.array([0, 1, 2, 5, 0])\n",
        "y = np.array([0, 1, 4])\n",
        "np.intersect1d(x,y)"
      ],
      "execution_count": 0,
      "outputs": [
        {
          "output_type": "execute_result",
          "data": {
            "text/plain": [
              "array([0, 1])"
            ]
          },
          "metadata": {
            "tags": []
          },
          "execution_count": 13
        }
      ]
    },
    {
      "cell_type": "markdown",
      "metadata": {
        "id": "gnX5HE1JIJ0W",
        "colab_type": "text"
      },
      "source": [
        "Q4. Find the unique elements of x that are not present in y."
      ]
    },
    {
      "cell_type": "code",
      "metadata": {
        "id": "BQnBuiY0IJ0X",
        "colab_type": "code",
        "outputId": "72d5a89d-379a-4341-f404-7cc0d07b2b36",
        "colab": {
          "base_uri": "https://localhost:8080/",
          "height": 34
        }
      },
      "source": [
        "x = np.array([0, 1, 2, 5, 0])\n",
        "y = np.array([0, 1, 4])\n",
        "np.setdiff1d(x,y)"
      ],
      "execution_count": 0,
      "outputs": [
        {
          "output_type": "execute_result",
          "data": {
            "text/plain": [
              "array([2, 5])"
            ]
          },
          "metadata": {
            "tags": []
          },
          "execution_count": 20
        }
      ]
    },
    {
      "cell_type": "markdown",
      "metadata": {
        "id": "BOcyFEezIJ0c",
        "colab_type": "text"
      },
      "source": [
        "Q5. Find the xor elements of x and y."
      ]
    },
    {
      "cell_type": "code",
      "metadata": {
        "id": "F5Y_kCCvIJ0d",
        "colab_type": "code",
        "outputId": "bd51a36c-39ce-4480-bd2a-fbdfd2c5ebf2",
        "colab": {
          "base_uri": "https://localhost:8080/",
          "height": 50
        }
      },
      "source": [
        "x = np.array([0, 1, 2, 5, 0])\n",
        "y = np.array([0, 1, 4])\n",
        "out1 = np.setxor1d(x, y)\n",
        "print(out1)\n",
        "out2 = np.sort(np.concatenate((np.setdiff1d(x, y), np.setdiff1d(y, x))))\n",
        "print(out2)\n",
        "assert np.allclose(out1, out2)"
      ],
      "execution_count": 0,
      "outputs": [
        {
          "output_type": "stream",
          "text": [
            "[2 4 5]\n",
            "[2 4 5]\n"
          ],
          "name": "stdout"
        }
      ]
    },
    {
      "cell_type": "markdown",
      "metadata": {
        "id": "vn9X6SE4IJ0h",
        "colab_type": "text"
      },
      "source": [
        "Q6. Find the union of x and y."
      ]
    },
    {
      "cell_type": "code",
      "metadata": {
        "id": "6lewD-gQIJ0i",
        "colab_type": "code",
        "outputId": "de422525-4e33-4f70-ef85-a46bbb2bed4a",
        "colab": {
          "base_uri": "https://localhost:8080/",
          "height": 50
        }
      },
      "source": [
        "x = np.array([0, 1, 2, 5, 0])\n",
        "y = np.array([0, 1, 4])\n",
        "out1 = np.union1d(x, y)\n",
        "print(out1)\n",
        "out2 = np.sort(np.unique(np.concatenate((x, y))))\n",
        "print(out2)\n",
        "assert np.allclose(out1, out2)"
      ],
      "execution_count": 0,
      "outputs": [
        {
          "output_type": "stream",
          "text": [
            "[0 1 2 4 5]\n",
            "[0 1 2 4 5]\n"
          ],
          "name": "stdout"
        }
      ]
    },
    {
      "cell_type": "code",
      "metadata": {
        "id": "mToT0P8PIJ0l",
        "colab_type": "code",
        "colab": {}
      },
      "source": [
        ""
      ],
      "execution_count": 0,
      "outputs": []
    }
  ]
}